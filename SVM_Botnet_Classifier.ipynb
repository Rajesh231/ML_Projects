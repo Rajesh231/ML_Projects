{
 "cells": [
  {
   "cell_type": "code",
   "execution_count": 1,
   "metadata": {},
   "outputs": [],
   "source": [
    "import numpy as np\n",
    "import pandas as pd\n",
    "import seaborn as sns\n",
    "import matplotlib.pyplot as plt\n",
    "%matplotlib inline\n",
    "from sklearn.model_selection import train_test_split\n",
    "from sklearn.preprocessing import StandardScaler\n",
    "from sklearn.feature_selection import variance_threshold\n",
    "from sklearn.svm import SVC\n",
    "from sklearn import metrics"
   ]
  },
  {
   "cell_type": "code",
   "execution_count": 2,
   "metadata": {},
   "outputs": [
    {
     "name": "stdout",
     "output_type": "stream",
     "text": [
      "(1025681, 9)\n"
     ]
    }
   ],
   "source": [
    "df = pd.read_csv(r\"C:\\Users\\Rajesh\\OneDrive\\Documents\\finalpreprocessed2.csv\")\n",
    "print(df.shape)"
   ]
  },
  {
   "cell_type": "code",
   "execution_count": 3,
   "metadata": {},
   "outputs": [
    {
     "name": "stdout",
     "output_type": "stream",
     "text": [
      "Total number of labels: 1025681\n",
      "Number of Malicious: 26885\n",
      "Number of Normal: 998796\n",
      "****************************************************\n",
      "(1025681, 9)\n",
      "(51284, 6)\n",
      "(51284,)\n",
      "****************************************************\n",
      "1344\n",
      "1344\n",
      "****************************************************\n"
     ]
    }
   ],
   "source": [
    "print(\"Total number of labels: {}\".format(df.shape[0]))\n",
    "print(\"Number of Malicious: {}\".format(df[df.Label == 1].shape[0]))\n",
    "print(\"Number of Normal: {}\".format(df[df.Label == 0].shape[0]))\n",
    "print(\"****************************************************\")\n",
    "print(df.shape)\n",
    "X = df.drop(labels =['Label','State','Proto'],axis =1)\n",
    "y = df['Label']\n",
    "X_train,X_test,y_train,y_test = train_test_split(X,y,test_size=0.5,random_state = 0, stratify =y)\n",
    "X_train,X_test,y_train,y_test = train_test_split(X_train,y_train,test_size=0.2,random_state = 0, stratify =y_train)\n",
    "X_train,X_test,y_train,y_test = train_test_split(X_test,y_test,test_size=0.5,random_state = 0, stratify =y_test)\n",
    "print(X_train.shape)\n",
    "print(y_test.shape)\n",
    "print(\"****************************************************\")\n",
    "cont=0\n",
    "for i in y_train:\n",
    "    if i ==1:\n",
    "        cont+=1\n",
    "print(cont)\n",
    "\n",
    "cont=0\n",
    "for i in y_test:\n",
    "    if i ==1:\n",
    "        cont+=1\n",
    "print(cont)\n",
    "print(\"****************************************************\")\n",
    "scaler = StandardScaler()\n",
    "X_train = scaler.fit_transform(X_train)\n",
    "X_test = scaler.transform(X_test)\n",
    "X_train\n",
    "\n",
    "X = X_train\n",
    "y=y_train "
   ]
  },
  {
   "cell_type": "code",
   "execution_count": 5,
   "metadata": {},
   "outputs": [
    {
     "name": "stdout",
     "output_type": "stream",
     "text": [
      "[-0.44794572  0.99722599  0.37322577 -0.01648494 -0.01125574 -0.03221697]\n",
      "[-0.44794588  0.83360196  0.37322577 -0.01648494 -0.01126486 -0.03245228]\n",
      "[ 2.11061206 -1.40242158  0.37322577  0.00610953 -0.00968153 -0.0092446 ]\n"
     ]
    }
   ],
   "source": [
    "cnt=0\n",
    "for i in X_train:\n",
    "    cnt+=1\n",
    "    if cnt>3:\n",
    "        break\n",
    "    else:\n",
    "        print(i)"
   ]
  },
  {
   "cell_type": "code",
   "execution_count": 6,
   "metadata": {},
   "outputs": [
    {
     "data": {
      "text/plain": [
       "((51284, 6), (51284, 6))"
      ]
     },
     "execution_count": 6,
     "metadata": {},
     "output_type": "execute_result"
    }
   ],
   "source": [
    "from sklearn.feature_selection import VarianceThreshold \n",
    "filter = VarianceThreshold(0.01) \n",
    "X_train = filter.fit_transform(X_train) \n",
    "X_test = filter.transform(X_test) \n",
    "X_train.shape, X_test.shape "
   ]
  },
  {
   "cell_type": "code",
   "execution_count": 7,
   "metadata": {},
   "outputs": [],
   "source": [
    "#as y is a series so y_train and y_test are also series therefore we need to convert them to a numpy array.\n",
    "y_train = y_train.to_numpy() \n",
    "y_test = y_test.to_numpy()"
   ]
  },
  {
   "cell_type": "code",
   "execution_count": 8,
   "metadata": {},
   "outputs": [
    {
     "data": {
      "text/plain": [
       "(51284, 6)"
      ]
     },
     "execution_count": 8,
     "metadata": {},
     "output_type": "execute_result"
    }
   ],
   "source": [
    "X_train.shape"
   ]
  },
  {
   "cell_type": "code",
   "execution_count": 9,
   "metadata": {},
   "outputs": [
    {
     "data": {
      "text/plain": [
       "(51284,)"
      ]
     },
     "execution_count": 9,
     "metadata": {},
     "output_type": "execute_result"
    }
   ],
   "source": [
    "y_test.shape"
   ]
  },
  {
   "cell_type": "code",
   "execution_count": 12,
   "metadata": {},
   "outputs": [],
   "source": [
    "#Building The SVM Model\n",
    "#svc=SVC(kernel='poly') #Default hyperparameters\n",
    "#svc.fit(X_train,y_train) \n",
    "from sklearn.model_selection import cross_val_score\n",
    "svc=SVC(kernel='rbf')"
   ]
  },
  {
   "cell_type": "code",
   "execution_count": 13,
   "metadata": {},
   "outputs": [
    {
     "name": "stdout",
     "output_type": "stream",
     "text": [
      "[0.9921742226820285, 0.9922043250300117, 0.9922344273779948, 0.9922344273779948, 0.992264529725978, 0.9922946320739612, 0.9922946320739612, 0.9922043431421346, 0.9922043431421346, 0.9922043431421346, 0.9922043431421346, 0.9922043431421346, 0.9922043431421346, 0.9922043431421346, 0.9922043431421346, 0.9922043431421346, 0.9922043431421346, 0.9922043431421346, 0.9922344454901177]\n"
     ]
    }
   ],
   "source": [
    "C_range=list(range(1,20))\n",
    "acc_score=[]\n",
    "for c in C_range:\n",
    "    svc = SVC(kernel='linear', C=c)\n",
    "    scores = cross_val_score(svc, X_train, y_train, cv=10, scoring='accuracy')\n",
    "    acc_score.append(scores.mean())\n",
    "print(acc_score)\n",
    "#scores = cross_val_score(svc, X_test, y_test, cv=10, scoring='accuracy') #cv is cross validation\n",
    "#print(scores)"
   ]
  },
  {
   "cell_type": "code",
   "execution_count": 14,
   "metadata": {},
   "outputs": [
    {
     "data": {
      "text/plain": [
       "Text(0, 0.5, 'Cross-Validated Accuracy')"
      ]
     },
     "execution_count": 14,
     "metadata": {},
     "output_type": "execute_result"
    },
    {
     "data": {
      "image/png": "[encoded data removed]",
      "text/plain": [
       "<Figure size 432x288 with 1 Axes>"
      ]
     },
     "metadata": {
      "needs_background": "light"
     },
     "output_type": "display_data"
    }
   ],
   "source": [
    "import matplotlib.pyplot as plt\n",
    "%matplotlib inline\n",
    "\n",
    "\n",
    "C_values=list(range(1,20))\n",
    "# plot the value of C for SVM (x-axis) versus the cross-validated accuracy (y-axis)\n",
    "plt.plot(C_values,acc_score)\n",
    "plt.xticks(np.arange(0,21,2))\n",
    "plt.xlabel('Value of C for SVC')\n",
    "plt.ylabel('Cross-Validated Accuracy')"
   ]
  },
  {
   "cell_type": "code",
   "execution_count": 17,
   "metadata": {},
   "outputs": [
    {
     "name": "stdout",
     "output_type": "stream",
     "text": [
      "[0.9922946320739612, 0.9922946320739612, 0.9922946320739612, 0.9922946320739612, 0.9922946320739612, 0.9922946320739612, 0.9922946320739612, 0.9922946320739612, 0.9922946320739612, 0.9922946320739612, 0.9922946320739612]\n"
     ]
    }
   ],
   "source": [
    "C_range=list(np.arange(5.9,7,0.1))\n",
    "acc_score=[]\n",
    "for c in C_range:\n",
    "    svc = SVC(kernel='linear', C=c)\n",
    "    scores = cross_val_score(svc, X_train, y_train, cv=10, scoring='accuracy')\n",
    "    acc_score.append(scores.mean())\n",
    "print(acc_score) "
   ]
  },
  {
   "cell_type": "code",
   "execution_count": 18,
   "metadata": {},
   "outputs": [
    {
     "data": {
      "text/plain": [
       "Text(0, 0.5, 'Cross-Validated Accuracy')"
      ]
     },
     "execution_count": 18,
     "metadata": {},
     "output_type": "execute_result"
    },
    {
     "data": {
      "image/png": "[encoded data removed]",
      "text/plain": [
       "<Figure size 432x288 with 1 Axes>"
      ]
     },
     "metadata": {
      "needs_background": "light"
     },
     "output_type": "display_data"
    }
   ],
   "source": [
    "import matplotlib.pyplot as plt\n",
    "%matplotlib inline\n",
    "\n",
    "C_values=list(np.arange(5.9,7,0.1))\n",
    "# plot the value of C for SVM (x-axis) versus the cross-validated accuracy (y-axis)\n",
    "plt.plot(C_values,acc_score)\n",
    "plt.xticks(np.arange(5.9,7,0.3))\n",
    "plt.xlabel('Value of C for SVC ')\n",
    "plt.ylabel('Cross-Validated Accuracy')"
   ]
  },
  {
   "cell_type": "code",
   "execution_count": 22,
   "metadata": {},
   "outputs": [
    {
     "name": "stdout",
     "output_type": "stream",
     "text": [
      "[0.9740549275478866, 0.9740549275478866, 0.9910304783556511, 0.9919936448183752, 0.9923247163098216, 0.9929567569447313, 0.997140639184056, 0.9975921200674351, 0.9976222043032955, 0.9976222224154181]\n"
     ]
    }
   ],
   "source": [
    "gamma_range=[0.0001,0.001,0.01,0.1,1,10,50,100,120,150]\n",
    "acc_score=[]\n",
    "for g in gamma_range:\n",
    "    svc = SVC(kernel='rbf', gamma=g)\n",
    "    scores = cross_val_score(svc, X_train, y_train, cv=10, scoring='accuracy')\n",
    "    acc_score.append(scores.mean())\n",
    "print(acc_score) "
   ]
  },
  {
   "cell_type": "code",
   "execution_count": 25,
   "metadata": {},
   "outputs": [
    {
     "data": {
      "text/plain": [
       "Text(0, 0.5, 'Cross-Validated Accuracy')"
      ]
     },
     "execution_count": 25,
     "metadata": {},
     "output_type": "execute_result"
    },
    {
     "data": {
      "image/png": "[encoded data removed]",
      "text/plain": [
       "<Figure size 432x288 with 1 Axes>"
      ]
     },
     "metadata": {
      "needs_background": "light"
     },
     "output_type": "display_data"
    }
   ],
   "source": [
    "import matplotlib.pyplot as plt\n",
    "%matplotlib inline\n",
    "\n",
    "gamma_range=[0.0001,0.001,0.01,0.1,1,10,50,100,120,150]\n",
    "\n",
    "# plot the value of C for SVM (x-axis) versus the cross-validated accuracy (y-axis)\n",
    "plt.plot(gamma_range,acc_score)\n",
    "plt.xlabel('Value of gamma for SVC ')\n",
    "plt.xticks(np.arange(0.0001,150,10))\n",
    "plt.ylabel('Cross-Validated Accuracy') "
   ]
  },
  {
   "cell_type": "code",
   "execution_count": 26,
   "metadata": {},
   "outputs": [
    {
     "name": "stdout",
     "output_type": "stream",
     "text": [
      "[0.9975921200674351, 0.9976222043032955, 0.9976222224154181]\n"
     ]
    }
   ],
   "source": [
    "gamma_range=[100,120,150]\n",
    "acc_score=[]\n",
    "for g in gamma_range:\n",
    "    svc = SVC(kernel='rbf', gamma=g)\n",
    "    scores = cross_val_score(svc, X_train, y_train, cv=10, scoring='accuracy')\n",
    "    acc_score.append(scores.mean())\n",
    "print(acc_score)"
   ]
  },
  {
   "cell_type": "code",
   "execution_count": 28,
   "metadata": {},
   "outputs": [
    {
     "data": {
      "text/plain": [
       "Text(0, 0.5, 'Cross-Validated Accuracy')"
      ]
     },
     "execution_count": 28,
     "metadata": {},
     "output_type": "execute_result"
    },
    {
     "data": {
      "image/png": "[encoded data removed]",
      "text/plain": [
       "<Figure size 432x288 with 1 Axes>"
      ]
     },
     "metadata": {
      "needs_background": "light"
     },
     "output_type": "display_data"
    }
   ],
   "source": [
    "import matplotlib.pyplot as plt\n",
    "%matplotlib inline\n",
    "\n",
    "gamma_range=[100,120,150]\n",
    "\n",
    "# plot the value of C for SVM (x-axis) versus the cross-validated accuracy (y-axis)\n",
    "plt.plot(gamma_range,acc_score)\n",
    "plt.xlabel('Value of gamma for SVC ')\n",
    "plt.ylabel('Cross-Validated Accuracy')"
   ]
  },
  {
   "cell_type": "code",
   "execution_count": 13,
   "metadata": {},
   "outputs": [
    {
     "name": "stdout",
     "output_type": "stream",
     "text": [
      "[0.9976222224154181, 0.9976222224154181, 0.9976523247634013, 0.9976824271113844]\n"
     ]
    }
   ],
   "source": [
    "gamma_range=[150,160,170,180]\n",
    "acc_score=[]\n",
    "for g in gamma_range:\n",
    "    svc = SVC(kernel='rbf', gamma=g)\n",
    "    scores = cross_val_score(svc, X_train, y_train, cv=10, scoring='accuracy')\n",
    "    acc_score.append(scores.mean())\n",
    "print(acc_score)  "
   ]
  },
  {
   "cell_type": "code",
   "execution_count": 16,
   "metadata": {},
   "outputs": [
    {
     "name": "stdout",
     "output_type": "stream",
     "text": [
      "[0.9977727160432112, 0.9977727160432112]\n"
     ]
    }
   ],
   "source": [
    "gamma_range=[200,210]\n",
    "acc_score=[]\n",
    "for g in gamma_range:\n",
    "    svc = SVC(kernel='rbf', gamma=g)\n",
    "    scores = cross_val_score(svc, X_train, y_train, cv=10, scoring='accuracy')\n",
    "    acc_score.append(scores.mean())\n",
    "print(acc_score)  "
   ]
  },
  {
   "cell_type": "markdown",
   "metadata": {},
   "source": [
    "## By above evaluation and parameter analysis we selected gamma= 200 for the best performance."
   ]
  },
  {
   "cell_type": "code",
   "execution_count": 17,
   "metadata": {},
   "outputs": [],
   "source": [
    "from sklearn.svm import SVC\n",
    "svc= SVC(kernel='linear',C=200)"
   ]
  },
  {
   "cell_type": "code",
   "execution_count": 19,
   "metadata": {
    "scrolled": true
   },
   "outputs": [
    {
     "data": {
      "text/plain": [
       "SVC(C=200, cache_size=200, class_weight=None, coef0=0.0,\n",
       "    decision_function_shape='ovr', degree=3, gamma='auto_deprecated',\n",
       "    kernel='linear', max_iter=-1, probability=False, random_state=None,\n",
       "    shrinking=True, tol=0.001, verbose=False)"
      ]
     },
     "execution_count": 19,
     "metadata": {},
     "output_type": "execute_result"
    }
   ],
   "source": [
    "svc.fit(X_train,y_train)"
   ]
  },
  {
   "cell_type": "code",
   "execution_count": 20,
   "metadata": {},
   "outputs": [
    {
     "name": "stdout",
     "output_type": "stream",
     "text": [
      "0.9938605994944023\n"
     ]
    }
   ],
   "source": [
    "y_predict=svc.predict(X_test)\n",
    "accuracy_score= metrics.accuracy_score(y_test,y_predict)\n",
    "print(accuracy_score)"
   ]
  },
  {
   "cell_type": "code",
   "execution_count": 21,
   "metadata": {
    "scrolled": true
   },
   "outputs": [
    {
     "name": "stdout",
     "output_type": "stream",
     "text": [
      "Actual accuracy_score :  0.9939\n",
      "Actual recall_score :  0.8565\n",
      "Actual precision_score :  0.9024\n",
      "Actual f1_score :  0.8789\n"
     ]
    }
   ],
   "source": [
    "#Let's check various metrics using sklearns inbuitl function to compare the values our custom functions generated\n",
    "from sklearn import metrics\n",
    "print(f\"Actual accuracy_score : {metrics.accuracy_score(y_test,y_predict.round()): .4f}\")\n",
    "print(f\"Actual recall_score : {metrics.recall_score(y_test,y_predict.round()): .4f}\")\n",
    "print(f\"Actual precision_score : {metrics.precision_score(y_test,y_predict.round()): .4f}\")\n",
    "print(f\"Actual f1_score : {metrics.f1_score(y_test,y_predict.round()): .4f}\")"
   ]
  },
  {
   "cell_type": "code",
   "execution_count": 13,
   "metadata": {},
   "outputs": [
    {
     "name": "stdout",
     "output_type": "stream",
     "text": [
      "[0.99099099 0.99399399 0.99097744 0.98795181 0.99698795 0.99246988\n",
      " 0.99548193 0.99548193 0.99698795 0.99548193]\n"
     ]
    }
   ],
   "source": [
    "from sklearn.model_selection import cross_val_score\n",
    "svc=SVC(kernel='linear',C=200)\n",
    "scores = cross_val_score(svc, X_train, y_train, cv=10, scoring='accuracy')\n",
    "print(scores)"
   ]
  },
  {
   "cell_type": "code",
   "execution_count": 14,
   "metadata": {},
   "outputs": [
    {
     "data": {
      "text/plain": [
       "SVC(C=200, cache_size=200, class_weight=None, coef0=0.0,\n",
       "    decision_function_shape='ovr', degree=3, gamma='auto_deprecated',\n",
       "    kernel='linear', max_iter=-1, probability=False, random_state=None,\n",
       "    shrinking=True, tol=0.001, verbose=False)"
      ]
     },
     "execution_count": 14,
     "metadata": {},
     "output_type": "execute_result"
    }
   ],
   "source": [
    "svc.fit(X_test,y_test)"
   ]
  },
  {
   "cell_type": "code",
   "execution_count": 15,
   "metadata": {},
   "outputs": [
    {
     "name": "stdout",
     "output_type": "stream",
     "text": [
      "Accuracy Score:\n",
      "0.9921780986762936\n"
     ]
    }
   ],
   "source": [
    "y_pred=svc.predict(X_test)\n",
    "print('Accuracy Score:')\n",
    "print(metrics.accuracy_score(y_test,y_pred))"
   ]
  },
  {
   "cell_type": "code",
   "execution_count": 16,
   "metadata": {},
   "outputs": [
    {
     "name": "stdout",
     "output_type": "stream",
     "text": [
      "Actual accuracy_score :  0.9922\n",
      "Actual recall_score :  0.7674\n",
      "Actual precision_score :  0.9167\n",
      "Actual f1_score :  0.8354\n"
     ]
    }
   ],
   "source": [
    "#Let's check various metrics using sklearns inbuitl function to compare the values our custom functions generated\n",
    "from sklearn import metrics\n",
    "print(f\"Actual accuracy_score : {metrics.accuracy_score(y_test,y_pred.round()): .4f}\")\n",
    "print(f\"Actual recall_score : {metrics.recall_score(y_test,y_pred.round()): .4f}\")\n",
    "print(f\"Actual precision_score : {metrics.precision_score(y_test,y_pred.round()): .4f}\")\n",
    "print(f\"Actual f1_score : {metrics.f1_score(y_test,y_pred.round()): .4f}\")"
   ]
  },
  {
   "cell_type": "code",
   "execution_count": 18,
   "metadata": {},
   "outputs": [
    {
     "name": "stdout",
     "output_type": "stream",
     "text": [
      "[0.99099099 0.99399399 0.99097744 0.98795181 0.99698795 0.99246988\n",
      " 0.99548193 0.99548193 0.99698795 0.99548193]\n"
     ]
    }
   ],
   "source": [
    "from sklearn.model_selection import cross_val_score\n",
    "svc=SVC(kernel='linear',C=200)\n",
    "scores = cross_val_score(svc, X_train, y_train, cv=10, scoring='accuracy')\n",
    "print(scores) "
   ]
  },
  {
   "cell_type": "code",
   "execution_count": 18,
   "metadata": {},
   "outputs": [
    {
     "name": "stdout",
     "output_type": "stream",
     "text": [
      "[0.9921781  0.99338147 0.99397953 0.99337748 0.99127032 0.99307646\n",
      " 0.99006623 0.99307646 0.9897652  0.98916315]\n"
     ]
    }
   ],
   "source": [
    "from sklearn.model_selection import cross_val_score\n",
    "svc=SVC(kernel='linear',C=.1)\n",
    "scores = cross_val_score(svc, X_train, y_train, cv=10, scoring='accuracy')\n",
    "print(scores) "
   ]
  },
  {
   "cell_type": "code",
   "execution_count": 13,
   "metadata": {},
   "outputs": [
    {
     "data": {
      "text/plain": [
       "SVC(C=200, cache_size=200, class_weight=None, coef0=0.0,\n",
       "    decision_function_shape='ovr', degree=3, gamma=200, kernel='rbf',\n",
       "    max_iter=-1, probability=False, random_state=None, shrinking=True,\n",
       "    tol=0.001, verbose=False)"
      ]
     },
     "execution_count": 13,
     "metadata": {},
     "output_type": "execute_result"
    }
   ],
   "source": [
    "from sklearn.svm import SVC\n",
    "svc= SVC(kernel='rbf',gamma=200,C=200)\n",
    "svc.fit(X_train,y_train) "
   ]
  },
  {
   "cell_type": "code",
   "execution_count": 14,
   "metadata": {},
   "outputs": [
    {
     "data": {
      "text/plain": [
       "0.9969915764139591"
      ]
     },
     "execution_count": 14,
     "metadata": {},
     "output_type": "execute_result"
    }
   ],
   "source": [
    "y_pred=svc.predict(X_test)\n",
    "metrics.accuracy_score(y_test,y_pred)"
   ]
  },
  {
   "cell_type": "code",
   "execution_count": 15,
   "metadata": {},
   "outputs": [
    {
     "name": "stdout",
     "output_type": "stream",
     "text": [
      "Actual accuracy_score :  0.9970\n",
      "Actual recall_score :  0.9302\n",
      "Actual precision_score :  0.9524\n",
      "Actual f1_score :  0.9412\n"
     ]
    }
   ],
   "source": [
    "#Let's check various metrics using sklearns inbuitl function to compare the values our custom functions generated\n",
    "from sklearn import metrics\n",
    "print(f\"Actual accuracy_score : {metrics.accuracy_score(y_test,y_pred.round()): .4f}\")\n",
    "print(f\"Actual recall_score : {metrics.recall_score(y_test,y_pred.round()): .4f}\")\n",
    "print(f\"Actual precision_score : {metrics.precision_score(y_test,y_pred.round()): .4f}\")\n",
    "print(f\"Actual f1_score : {metrics.f1_score(y_test,y_pred.round()): .4f}\")"
   ]
  },
  {
   "cell_type": "code",
   "execution_count": 16,
   "metadata": {},
   "outputs": [
    {
     "name": "stdout",
     "output_type": "stream",
     "text": [
      "[0.99099099 0.99399399 0.99097744 0.98795181 0.99698795 0.99246988\n",
      " 0.99548193 0.99548193 0.99698795 0.99548193]\n",
      "0.9936805802087983\n"
     ]
    }
   ],
   "source": [
    "from sklearn.model_selection import cross_val_score\n",
    "svc=SVC(kernel='linear',gamma=200,C=200)\n",
    "scores = cross_val_score(svc, X_train, y_train, cv=10, scoring='accuracy')\n",
    "print(scores)\n",
    "print(scores.mean())"
   ]
  },
  {
   "cell_type": "code",
   "execution_count": 17,
   "metadata": {},
   "outputs": [
    {
     "data": {
      "text/plain": [
       "SVC(C=200, cache_size=200, class_weight=None, coef0=0.0,\n",
       "    decision_function_shape='ovr', degree=3, gamma=200, kernel='linear',\n",
       "    max_iter=-1, probability=False, random_state=None, shrinking=True,\n",
       "    tol=0.001, verbose=False)"
      ]
     },
     "execution_count": 17,
     "metadata": {},
     "output_type": "execute_result"
    }
   ],
   "source": [
    "svc.fit(X_train,y_train)"
   ]
  },
  {
   "cell_type": "code",
   "execution_count": 18,
   "metadata": {},
   "outputs": [
    {
     "data": {
      "text/plain": [
       "0.9939831528279182"
      ]
     },
     "execution_count": 18,
     "metadata": {},
     "output_type": "execute_result"
    }
   ],
   "source": [
    "from sklearn import metrics\n",
    "y_pred=svc.predict(X_test)\n",
    "metrics.accuracy_score(y_test,y_pred)"
   ]
  },
  {
   "cell_type": "code",
   "execution_count": 19,
   "metadata": {},
   "outputs": [
    {
     "name": "stdout",
     "output_type": "stream",
     "text": [
      "Actual accuracy_score :  0.9940\n",
      "Actual recall_score :  0.8605\n",
      "Actual precision_score :  0.9024\n",
      "Actual f1_score :  0.8810\n"
     ]
    }
   ],
   "source": [
    "#Let's check various metrics using sklearns inbuitl function to compare the values our custom functions generated\n",
    "from sklearn import metrics\n",
    "print(f\"Actual accuracy_score : {metrics.accuracy_score(y_test,y_pred.round()): .4f}\")\n",
    "print(f\"Actual recall_score : {metrics.recall_score(y_test,y_pred.round()): .4f}\")\n",
    "print(f\"Actual precision_score : {metrics.precision_score(y_test,y_pred.round()): .4f}\")\n",
    "print(f\"Actual f1_score : {metrics.f1_score(y_test,y_pred.round()): .4f}\")"
   ]
  },
  {
   "cell_type": "code",
   "execution_count": null,
   "metadata": {},
   "outputs": [],
   "source": []
  },
  {
   "cell_type": "code",
   "execution_count": null,
   "metadata": {},
   "outputs": [],
   "source": []
  },
  {
   "cell_type": "markdown",
   "metadata": {},
   "source": [
    "## This is the best performance by setting these parameters ( Kernel = rbf, gamma = 200, C = 200 )"
   ]
  },
  {
   "cell_type": "code",
   "execution_count": 6,
   "metadata": {},
   "outputs": [
    {
     "data": {
      "text/plain": [
       "SVC(C=200, cache_size=200, class_weight=None, coef0=0.0,\n",
       "    decision_function_shape='ovr', degree=3, gamma=200, kernel='rbf',\n",
       "    max_iter=-1, probability=False, random_state=None, shrinking=True,\n",
       "    tol=0.001, verbose=False)"
      ]
     },
     "execution_count": 6,
     "metadata": {},
     "output_type": "execute_result"
    }
   ],
   "source": [
    "from sklearn.svm import SVC\n",
    "svc= SVC(kernel='rbf',gamma=200,C=200)\n",
    "svc.fit(X_train,y_train)"
   ]
  },
  {
   "cell_type": "code",
   "execution_count": 10,
   "metadata": {},
   "outputs": [
    {
     "data": {
      "text/plain": [
       "0.9990900345786861"
      ]
     },
     "execution_count": 10,
     "metadata": {},
     "output_type": "execute_result"
    }
   ],
   "source": [
    "y_predict=svc.predict(X_test)\n",
    "metrics.accuracy_score(y_test,y_predict)"
   ]
  },
  {
   "cell_type": "code",
   "execution_count": 11,
   "metadata": {},
   "outputs": [
    {
     "name": "stdout",
     "output_type": "stream",
     "text": [
      "Actual accuracy_score :  0.9991\n",
      "Actual recall_score :  0.9784\n",
      "Actual precision_score :  0.9867\n",
      "Actual f1_score :  0.9826\n"
     ]
    }
   ],
   "source": [
    "#Let's check various metrics using sklearns inbuitl function to compare the values our custom functions generated\n",
    "from sklearn import metrics\n",
    "print(f\"Actual accuracy_score : {metrics.accuracy_score(y_test,y_predict.round()): .4f}\")\n",
    "print(f\"Actual recall_score : {metrics.recall_score(y_test,y_predict.round()): .4f}\")\n",
    "print(f\"Actual precision_score : {metrics.precision_score(y_test,y_predict.round()): .4f}\")\n",
    "print(f\"Actual f1_score : {metrics.f1_score(y_test,y_predict.round()): .4f}\")"
   ]
  },
  {
   "cell_type": "code",
   "execution_count": 12,
   "metadata": {},
   "outputs": [
    {
     "name": "stdout",
     "output_type": "stream",
     "text": [
      "[[149766     53]\n",
      " [    87   3946]]\n",
      "              precision    recall  f1-score   support\n",
      "\n",
      "           0       1.00      1.00      1.00    149819\n",
      "           1       0.99      0.98      0.98      4033\n",
      "\n",
      "    accuracy                           1.00    153852\n",
      "   macro avg       0.99      0.99      0.99    153852\n",
      "weighted avg       1.00      1.00      1.00    153852\n",
      "\n"
     ]
    }
   ],
   "source": [
    "from sklearn.metrics import classification_report,confusion_matrix\n",
    "print(confusion_matrix(y_test,y_predict.round()))\n",
    "print(classification_report(y_test.round(),y_predict.round()))"
   ]
  },
  {
   "cell_type": "code",
   "execution_count": 13,
   "metadata": {},
   "outputs": [],
   "source": [
    "TP = true_positives = 3946\n",
    "TN = true_negatives = 149766\n",
    "FP = false_positives = 53\n",
    "FN = false_negatives = 87"
   ]
  },
  {
   "cell_type": "code",
   "execution_count": 1,
   "metadata": {},
   "outputs": [],
   "source": [
    "TP = true_positives = 3946\n",
    "TN = true_negatives = 149766\n",
    "FP = false_positives = 53\n",
    "FN = false_negatives = 87"
   ]
  },
  {
   "cell_type": "code",
   "execution_count": 14,
   "metadata": {},
   "outputs": [
    {
     "name": "stdout",
     "output_type": "stream",
     "text": [
      "The flase positive rate of this model is0.0004\n"
     ]
    }
   ],
   "source": [
    "#False Positive rate\n",
    "FPR = FP/(TN+FP)\n",
    "print(\"The flase positive rate of this model is{:.4f}\".format(FPR))"
   ]
  },
  {
   "cell_type": "code",
   "execution_count": 15,
   "metadata": {},
   "outputs": [
    {
     "name": "stdout",
     "output_type": "stream",
     "text": [
      "The model used is Deep Learning classifier\n",
      "The accuracy is 0.999090\n",
      "The precision is 0.986747\n",
      "The recall is 0.978428\n",
      "The F1-Score is 0.982570\n",
      "The Matthews correlation coefficient is0.982112\n"
     ]
    }
   ],
   "source": [
    "# Evaluating the classifier \n",
    "# printing every score of the classifier \n",
    "# scoring in anything \n",
    "y_pred = y_predict.round()\n",
    "from sklearn.metrics import classification_report, accuracy_score \n",
    "from sklearn.metrics import precision_score, recall_score \n",
    "from sklearn.metrics import f1_score, matthews_corrcoef \n",
    "from sklearn.metrics import confusion_matrix \n",
    "\n",
    "\n",
    "print(\"The model used is Deep Learning classifier\")\n",
    "acc = accuracy_score(y_test, y_pred) \n",
    "print(\"The accuracy is {:.6f}\".format(acc)) \n",
    "\n",
    "prec = precision_score(y_test, y_pred) \n",
    "print(\"The precision is {:.6f}\".format(prec)) \n",
    "\n",
    "rec = recall_score(y_test, y_pred) \n",
    "print(\"The recall is {:.6f}\".format(rec)) \n",
    "\n",
    "f1 = f1_score(y_test, y_pred) \n",
    "print(\"The F1-Score is {:.6f}\".format(f1)) \n",
    "\n",
    "MCC = matthews_corrcoef(y_test, y_pred) \n",
    "print(\"The Matthews correlation coefficient is{:.6f}\".format(MCC)) "
   ]
  }
 ],
 "metadata": {
  "kernelspec": {
   "display_name": "Python 3",
   "language": "python",
   "name": "python3"
  },
  "language_info": {
   "codemirror_mode": {
    "name": "ipython",
    "version": 3
   },
   "file_extension": ".py",
   "mimetype": "text/x-python",
   "name": "python",
   "nbconvert_exporter": "python",
   "pygments_lexer": "ipython3",
   "version": "3.7.1"
  }
 },
 "nbformat": 4,
 "nbformat_minor": 2
}
