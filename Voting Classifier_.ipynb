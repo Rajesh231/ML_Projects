{
 "cells": [
  {
   "cell_type": "code",
   "execution_count": 1,
   "metadata": {},
   "outputs": [],
   "source": [
    "import tensorflow as tf \n",
    "from tensorflow.keras import Sequential \n",
    "from tensorflow.keras.callbacks import EarlyStopping \n",
    "from tensorflow.keras.callbacks import ModelCheckpoint"
   ]
  },
  {
   "cell_type": "code",
   "execution_count": 2,
   "metadata": {},
   "outputs": [
    {
     "name": "stdout",
     "output_type": "stream",
     "text": [
      "2.1.0\n"
     ]
    }
   ],
   "source": [
    "from tensorflow.keras.layers import Conv1D, MaxPool1D,Flatten,Dense,Dropout,BatchNormalization\n",
    "print(tf.__version__)"
   ]
  },
  {
   "cell_type": "code",
   "execution_count": 3,
   "metadata": {},
   "outputs": [],
   "source": [
    "import numpy as np \n",
    "import pandas as pd \n",
    "import seaborn as sns \n",
    "import matplotlib.pyplot as plt"
   ]
  },
  {
   "cell_type": "code",
   "execution_count": 4,
   "metadata": {},
   "outputs": [],
   "source": [
    "from sklearn.model_selection import train_test_split \n",
    "from sklearn.preprocessing import StandardScaler \n",
    "from sklearn.feature_selection import variance_threshold"
   ]
  },
  {
   "cell_type": "code",
   "execution_count": 5,
   "metadata": {},
   "outputs": [
    {
     "data": {
      "text/html": [
       "<div>\n",
       "<style scoped>\n",
       "    .dataframe tbody tr th:only-of-type {\n",
       "        vertical-align: middle;\n",
       "    }\n",
       "\n",
       "    .dataframe tbody tr th {\n",
       "        vertical-align: top;\n",
       "    }\n",
       "\n",
       "    .dataframe thead th {\n",
       "        text-align: right;\n",
       "    }\n",
       "</style>\n",
       "<table border=\"1\" class=\"dataframe\">\n",
       "  <thead>\n",
       "    <tr style=\"text-align: right;\">\n",
       "      <th></th>\n",
       "      <th>Dur</th>\n",
       "      <th>Proto</th>\n",
       "      <th>Sport</th>\n",
       "      <th>Dport</th>\n",
       "      <th>TotPkts</th>\n",
       "      <th>TotBytes</th>\n",
       "      <th>SrcBytes</th>\n",
       "      <th>Label</th>\n",
       "      <th>State</th>\n",
       "    </tr>\n",
       "  </thead>\n",
       "  <tbody>\n",
       "    <tr>\n",
       "      <td>0</td>\n",
       "      <td>0.055572</td>\n",
       "      <td>1</td>\n",
       "      <td>13485</td>\n",
       "      <td>1</td>\n",
       "      <td>2</td>\n",
       "      <td>128</td>\n",
       "      <td>60</td>\n",
       "      <td>0</td>\n",
       "      <td>1</td>\n",
       "    </tr>\n",
       "    <tr>\n",
       "      <td>1</td>\n",
       "      <td>0.097566</td>\n",
       "      <td>1</td>\n",
       "      <td>35155</td>\n",
       "      <td>10</td>\n",
       "      <td>2</td>\n",
       "      <td>474</td>\n",
       "      <td>145</td>\n",
       "      <td>0</td>\n",
       "      <td>1</td>\n",
       "    </tr>\n",
       "    <tr>\n",
       "      <td>2</td>\n",
       "      <td>3598.238525</td>\n",
       "      <td>1</td>\n",
       "      <td>43565</td>\n",
       "      <td>23</td>\n",
       "      <td>876</td>\n",
       "      <td>96819</td>\n",
       "      <td>47731</td>\n",
       "      <td>0</td>\n",
       "      <td>1</td>\n",
       "    </tr>\n",
       "    <tr>\n",
       "      <td>3</td>\n",
       "      <td>3591.619629</td>\n",
       "      <td>1</td>\n",
       "      <td>43565</td>\n",
       "      <td>23</td>\n",
       "      <td>867</td>\n",
       "      <td>95866</td>\n",
       "      <td>47068</td>\n",
       "      <td>0</td>\n",
       "      <td>1</td>\n",
       "    </tr>\n",
       "    <tr>\n",
       "      <td>4</td>\n",
       "      <td>1337.931763</td>\n",
       "      <td>1</td>\n",
       "      <td>44774</td>\n",
       "      <td>23</td>\n",
       "      <td>275</td>\n",
       "      <td>28434</td>\n",
       "      <td>12099</td>\n",
       "      <td>0</td>\n",
       "      <td>1</td>\n",
       "    </tr>\n",
       "  </tbody>\n",
       "</table>\n",
       "</div>"
      ],
      "text/plain": [
       "           Dur  Proto  Sport  Dport  TotPkts  TotBytes  SrcBytes  Label  State\n",
       "0     0.055572      1  13485      1        2       128        60      0      1\n",
       "1     0.097566      1  35155     10        2       474       145      0      1\n",
       "2  3598.238525      1  43565     23      876     96819     47731      0      1\n",
       "3  3591.619629      1  43565     23      867     95866     47068      0      1\n",
       "4  1337.931763      1  44774     23      275     28434     12099      0      1"
      ]
     },
     "execution_count": 5,
     "metadata": {},
     "output_type": "execute_result"
    }
   ],
   "source": [
    "df = pd.read_csv(r\"C:\\Users\\Rajesh\\OneDrive\\Documents\\finalpreprocessed2.csv\") \n",
    "df.head()"
   ]
  },
  {
   "cell_type": "code",
   "execution_count": 6,
   "metadata": {},
   "outputs": [
    {
     "name": "stdout",
     "output_type": "stream",
     "text": [
      "(1025681, 9)\n",
      "\n",
      "\n",
      "<class 'pandas.core.frame.DataFrame'>\n",
      "RangeIndex: 1025681 entries, 0 to 1025680\n",
      "Data columns (total 9 columns):\n",
      "Dur         1025681 non-null float64\n",
      "Proto       1025681 non-null int64\n",
      "Sport       1025681 non-null int64\n",
      "Dport       1025681 non-null int64\n",
      "TotPkts     1025681 non-null int64\n",
      "TotBytes    1025681 non-null int64\n",
      "SrcBytes    1025681 non-null int64\n",
      "Label       1025681 non-null int64\n",
      "State       1025681 non-null int64\n",
      "dtypes: float64(1), int64(8)\n",
      "memory usage: 70.4 MB\n"
     ]
    }
   ],
   "source": [
    "print(df.shape)\n",
    "print(\"\\n\")\n",
    "df.info()"
   ]
  },
  {
   "cell_type": "code",
   "execution_count": 7,
   "metadata": {},
   "outputs": [
    {
     "name": "stdout",
     "output_type": "stream",
     "text": [
      "0.026917408559906125\n",
      "\n",
      "\n",
      "Fraud Cases: 26885\n",
      "Valid Transactions: 998796\n"
     ]
    }
   ],
   "source": [
    "# Determine number of fraud cases in dataset \n",
    "Botnet= df[df['Label'] == 1] \n",
    "Normal = df[df['Label'] == 0] \n",
    "outlierFraction = len(Botnet)/float(len(Normal)) \n",
    "print(outlierFraction) \n",
    "print(\"\\n\")\n",
    "print('Fraud Cases: {}'.format(len(df[df['Label'] == 1]))) \n",
    "print('Valid Transactions: {}'.format(len(df[df['Label'] == 0]))) "
   ]
  },
  {
   "cell_type": "code",
   "execution_count": 8,
   "metadata": {},
   "outputs": [
    {
     "name": "stdout",
     "output_type": "stream",
     "text": [
      "Amount details of the Botnet Traffic\n"
     ]
    },
    {
     "data": {
      "text/html": [
       "<div>\n",
       "<style scoped>\n",
       "    .dataframe tbody tr th:only-of-type {\n",
       "        vertical-align: middle;\n",
       "    }\n",
       "\n",
       "    .dataframe tbody tr th {\n",
       "        vertical-align: top;\n",
       "    }\n",
       "\n",
       "    .dataframe thead th {\n",
       "        text-align: right;\n",
       "    }\n",
       "</style>\n",
       "<table border=\"1\" class=\"dataframe\">\n",
       "  <thead>\n",
       "    <tr style=\"text-align: right;\">\n",
       "      <th></th>\n",
       "      <th>Dur</th>\n",
       "      <th>Proto</th>\n",
       "      <th>Sport</th>\n",
       "      <th>Dport</th>\n",
       "      <th>TotPkts</th>\n",
       "      <th>TotBytes</th>\n",
       "      <th>SrcBytes</th>\n",
       "      <th>Label</th>\n",
       "      <th>State</th>\n",
       "    </tr>\n",
       "  </thead>\n",
       "  <tbody>\n",
       "    <tr>\n",
       "      <td>count</td>\n",
       "      <td>26885.000000</td>\n",
       "      <td>26885.000000</td>\n",
       "      <td>26885.000000</td>\n",
       "      <td>26885.000000</td>\n",
       "      <td>26885.000000</td>\n",
       "      <td>26885.000000</td>\n",
       "      <td>26885.000000</td>\n",
       "      <td>26885.0</td>\n",
       "      <td>26885.000000</td>\n",
       "    </tr>\n",
       "    <tr>\n",
       "      <td>mean</td>\n",
       "      <td>9.250071</td>\n",
       "      <td>1.196913</td>\n",
       "      <td>2231.884545</td>\n",
       "      <td>412.839316</td>\n",
       "      <td>3.969797</td>\n",
       "      <td>549.570504</td>\n",
       "      <td>206.900800</td>\n",
       "      <td>1.0</td>\n",
       "      <td>1.895890</td>\n",
       "    </tr>\n",
       "    <tr>\n",
       "      <td>std</td>\n",
       "      <td>103.058563</td>\n",
       "      <td>0.397673</td>\n",
       "      <td>638.083492</td>\n",
       "      <td>3525.908075</td>\n",
       "      <td>102.435016</td>\n",
       "      <td>9708.380705</td>\n",
       "      <td>4122.435199</td>\n",
       "      <td>0.0</td>\n",
       "      <td>2.259859</td>\n",
       "    </tr>\n",
       "    <tr>\n",
       "      <td>min</td>\n",
       "      <td>0.000000</td>\n",
       "      <td>1.000000</td>\n",
       "      <td>1025.000000</td>\n",
       "      <td>25.000000</td>\n",
       "      <td>1.000000</td>\n",
       "      <td>62.000000</td>\n",
       "      <td>62.000000</td>\n",
       "      <td>1.0</td>\n",
       "      <td>1.000000</td>\n",
       "    </tr>\n",
       "    <tr>\n",
       "      <td>25%</td>\n",
       "      <td>0.019557</td>\n",
       "      <td>1.000000</td>\n",
       "      <td>2077.000000</td>\n",
       "      <td>53.000000</td>\n",
       "      <td>2.000000</td>\n",
       "      <td>183.000000</td>\n",
       "      <td>71.000000</td>\n",
       "      <td>1.0</td>\n",
       "      <td>1.000000</td>\n",
       "    </tr>\n",
       "    <tr>\n",
       "      <td>50%</td>\n",
       "      <td>0.066952</td>\n",
       "      <td>1.000000</td>\n",
       "      <td>2077.000000</td>\n",
       "      <td>53.000000</td>\n",
       "      <td>2.000000</td>\n",
       "      <td>201.000000</td>\n",
       "      <td>74.000000</td>\n",
       "      <td>1.0</td>\n",
       "      <td>1.000000</td>\n",
       "    </tr>\n",
       "    <tr>\n",
       "      <td>75%</td>\n",
       "      <td>0.310549</td>\n",
       "      <td>1.000000</td>\n",
       "      <td>2079.000000</td>\n",
       "      <td>53.000000</td>\n",
       "      <td>2.000000</td>\n",
       "      <td>260.000000</td>\n",
       "      <td>80.000000</td>\n",
       "      <td>1.0</td>\n",
       "      <td>2.000000</td>\n",
       "    </tr>\n",
       "    <tr>\n",
       "      <td>max</td>\n",
       "      <td>3599.943115</td>\n",
       "      <td>2.000000</td>\n",
       "      <td>5000.000000</td>\n",
       "      <td>65520.000000</td>\n",
       "      <td>8645.000000</td>\n",
       "      <td>790233.000000</td>\n",
       "      <td>258900.000000</td>\n",
       "      <td>1.0</td>\n",
       "      <td>22.000000</td>\n",
       "    </tr>\n",
       "  </tbody>\n",
       "</table>\n",
       "</div>"
      ],
      "text/plain": [
       "                Dur         Proto         Sport         Dport       TotPkts  \\\n",
       "count  26885.000000  26885.000000  26885.000000  26885.000000  26885.000000   \n",
       "mean       9.250071      1.196913   2231.884545    412.839316      3.969797   \n",
       "std      103.058563      0.397673    638.083492   3525.908075    102.435016   \n",
       "min        0.000000      1.000000   1025.000000     25.000000      1.000000   \n",
       "25%        0.019557      1.000000   2077.000000     53.000000      2.000000   \n",
       "50%        0.066952      1.000000   2077.000000     53.000000      2.000000   \n",
       "75%        0.310549      1.000000   2079.000000     53.000000      2.000000   \n",
       "max     3599.943115      2.000000   5000.000000  65520.000000   8645.000000   \n",
       "\n",
       "            TotBytes       SrcBytes    Label         State  \n",
       "count   26885.000000   26885.000000  26885.0  26885.000000  \n",
       "mean      549.570504     206.900800      1.0      1.895890  \n",
       "std      9708.380705    4122.435199      0.0      2.259859  \n",
       "min        62.000000      62.000000      1.0      1.000000  \n",
       "25%       183.000000      71.000000      1.0      1.000000  \n",
       "50%       201.000000      74.000000      1.0      1.000000  \n",
       "75%       260.000000      80.000000      1.0      2.000000  \n",
       "max    790233.000000  258900.000000      1.0     22.000000  "
      ]
     },
     "execution_count": 8,
     "metadata": {},
     "output_type": "execute_result"
    }
   ],
   "source": [
    "print(\"Amount details of the Botnet Traffic\") \n",
    "df[df['Label']==1].describe()"
   ]
  },
  {
   "cell_type": "code",
   "execution_count": 9,
   "metadata": {},
   "outputs": [
    {
     "name": "stdout",
     "output_type": "stream",
     "text": [
      "details of  Normal Traffic\n"
     ]
    },
    {
     "data": {
      "text/html": [
       "<div>\n",
       "<style scoped>\n",
       "    .dataframe tbody tr th:only-of-type {\n",
       "        vertical-align: middle;\n",
       "    }\n",
       "\n",
       "    .dataframe tbody tr th {\n",
       "        vertical-align: top;\n",
       "    }\n",
       "\n",
       "    .dataframe thead th {\n",
       "        text-align: right;\n",
       "    }\n",
       "</style>\n",
       "<table border=\"1\" class=\"dataframe\">\n",
       "  <thead>\n",
       "    <tr style=\"text-align: right;\">\n",
       "      <th></th>\n",
       "      <th>Dur</th>\n",
       "      <th>Proto</th>\n",
       "      <th>Sport</th>\n",
       "      <th>Dport</th>\n",
       "      <th>TotPkts</th>\n",
       "      <th>TotBytes</th>\n",
       "      <th>SrcBytes</th>\n",
       "      <th>Label</th>\n",
       "      <th>State</th>\n",
       "    </tr>\n",
       "  </thead>\n",
       "  <tbody>\n",
       "    <tr>\n",
       "      <td>count</td>\n",
       "      <td>998796.000000</td>\n",
       "      <td>998796.000000</td>\n",
       "      <td>998796.000000</td>\n",
       "      <td>998796.000000</td>\n",
       "      <td>9.987960e+05</td>\n",
       "      <td>9.987960e+05</td>\n",
       "      <td>9.987960e+05</td>\n",
       "      <td>998796.0</td>\n",
       "      <td>998796.000000</td>\n",
       "    </tr>\n",
       "    <tr>\n",
       "      <td>mean</td>\n",
       "      <td>478.425650</td>\n",
       "      <td>1.173243</td>\n",
       "      <td>37934.694771</td>\n",
       "      <td>8884.957119</td>\n",
       "      <td>2.455467e+01</td>\n",
       "      <td>1.921317e+04</td>\n",
       "      <td>4.453049e+03</td>\n",
       "      <td>0.0</td>\n",
       "      <td>2.099250</td>\n",
       "    </tr>\n",
       "    <tr>\n",
       "      <td>std</td>\n",
       "      <td>1048.031140</td>\n",
       "      <td>0.425711</td>\n",
       "      <td>18781.846433</td>\n",
       "      <td>12508.066439</td>\n",
       "      <td>3.740356e+03</td>\n",
       "      <td>3.980674e+06</td>\n",
       "      <td>2.653235e+06</td>\n",
       "      <td>0.0</td>\n",
       "      <td>2.844775</td>\n",
       "    </tr>\n",
       "    <tr>\n",
       "      <td>min</td>\n",
       "      <td>0.000000</td>\n",
       "      <td>1.000000</td>\n",
       "      <td>1.000000</td>\n",
       "      <td>1.000000</td>\n",
       "      <td>1.000000e+00</td>\n",
       "      <td>6.000000e+01</td>\n",
       "      <td>0.000000e+00</td>\n",
       "      <td>0.0</td>\n",
       "      <td>1.000000</td>\n",
       "    </tr>\n",
       "    <tr>\n",
       "      <td>25%</td>\n",
       "      <td>0.000309</td>\n",
       "      <td>1.000000</td>\n",
       "      <td>21810.000000</td>\n",
       "      <td>53.000000</td>\n",
       "      <td>2.000000e+00</td>\n",
       "      <td>2.140000e+02</td>\n",
       "      <td>7.800000e+01</td>\n",
       "      <td>0.0</td>\n",
       "      <td>1.000000</td>\n",
       "    </tr>\n",
       "    <tr>\n",
       "      <td>50%</td>\n",
       "      <td>0.001100</td>\n",
       "      <td>1.000000</td>\n",
       "      <td>42328.000000</td>\n",
       "      <td>443.000000</td>\n",
       "      <td>2.000000e+00</td>\n",
       "      <td>2.640000e+02</td>\n",
       "      <td>8.200000e+01</td>\n",
       "      <td>0.0</td>\n",
       "      <td>1.000000</td>\n",
       "    </tr>\n",
       "    <tr>\n",
       "      <td>75%</td>\n",
       "      <td>11.297167</td>\n",
       "      <td>1.000000</td>\n",
       "      <td>53455.000000</td>\n",
       "      <td>13363.000000</td>\n",
       "      <td>6.000000e+00</td>\n",
       "      <td>6.190000e+02</td>\n",
       "      <td>2.920000e+02</td>\n",
       "      <td>0.0</td>\n",
       "      <td>1.000000</td>\n",
       "    </tr>\n",
       "    <tr>\n",
       "      <td>max</td>\n",
       "      <td>3600.000000</td>\n",
       "      <td>6.000000</td>\n",
       "      <td>65535.000000</td>\n",
       "      <td>65535.000000</td>\n",
       "      <td>2.686731e+06</td>\n",
       "      <td>2.689640e+09</td>\n",
       "      <td>2.635366e+09</td>\n",
       "      <td>0.0</td>\n",
       "      <td>22.000000</td>\n",
       "    </tr>\n",
       "  </tbody>\n",
       "</table>\n",
       "</div>"
      ],
      "text/plain": [
       "                 Dur          Proto          Sport          Dport  \\\n",
       "count  998796.000000  998796.000000  998796.000000  998796.000000   \n",
       "mean      478.425650       1.173243   37934.694771    8884.957119   \n",
       "std      1048.031140       0.425711   18781.846433   12508.066439   \n",
       "min         0.000000       1.000000       1.000000       1.000000   \n",
       "25%         0.000309       1.000000   21810.000000      53.000000   \n",
       "50%         0.001100       1.000000   42328.000000     443.000000   \n",
       "75%        11.297167       1.000000   53455.000000   13363.000000   \n",
       "max      3600.000000       6.000000   65535.000000   65535.000000   \n",
       "\n",
       "            TotPkts      TotBytes      SrcBytes     Label          State  \n",
       "count  9.987960e+05  9.987960e+05  9.987960e+05  998796.0  998796.000000  \n",
       "mean   2.455467e+01  1.921317e+04  4.453049e+03       0.0       2.099250  \n",
       "std    3.740356e+03  3.980674e+06  2.653235e+06       0.0       2.844775  \n",
       "min    1.000000e+00  6.000000e+01  0.000000e+00       0.0       1.000000  \n",
       "25%    2.000000e+00  2.140000e+02  7.800000e+01       0.0       1.000000  \n",
       "50%    2.000000e+00  2.640000e+02  8.200000e+01       0.0       1.000000  \n",
       "75%    6.000000e+00  6.190000e+02  2.920000e+02       0.0       1.000000  \n",
       "max    2.686731e+06  2.689640e+09  2.635366e+09       0.0      22.000000  "
      ]
     },
     "execution_count": 9,
     "metadata": {},
     "output_type": "execute_result"
    }
   ],
   "source": [
    "print(\"details of  Normal Traffic\") \n",
    "df[df['Label']==0].describe() "
   ]
  },
  {
   "cell_type": "code",
   "execution_count": 10,
   "metadata": {},
   "outputs": [
    {
     "data": {
      "text/plain": [
       "array([[<matplotlib.axes._subplots.AxesSubplot object at 0x0000028C585249E8>,\n",
       "        <matplotlib.axes._subplots.AxesSubplot object at 0x0000028C57EFFA90>,\n",
       "        <matplotlib.axes._subplots.AxesSubplot object at 0x0000028C57F81048>],\n",
       "       [<matplotlib.axes._subplots.AxesSubplot object at 0x0000028C57FB05F8>,\n",
       "        <matplotlib.axes._subplots.AxesSubplot object at 0x0000028C57FE0BA8>,\n",
       "        <matplotlib.axes._subplots.AxesSubplot object at 0x0000028C5801D198>],\n",
       "       [<matplotlib.axes._subplots.AxesSubplot object at 0x0000028C5804D748>,\n",
       "        <matplotlib.axes._subplots.AxesSubplot object at 0x0000028C5807FD30>,\n",
       "        <matplotlib.axes._subplots.AxesSubplot object at 0x0000028C5807FD68>]],\n",
       "      dtype=object)"
      ]
     },
     "execution_count": 10,
     "metadata": {},
     "output_type": "execute_result"
    },
    {
     "data": {
      "image/png": "[encoded data removed]",
      "text/plain": [
       "<Figure size 1440x1080 with 9 Axes>"
      ]
     },
     "metadata": {
      "needs_background": "light"
     },
     "output_type": "display_data"
    }
   ],
   "source": [
    "#plot histogram of each parameter\n",
    "%matplotlib inline\n",
    "import matplotlib.pyplot as plt\n",
    "df.hist(figsize = (20,15))"
   ]
  },
  {
   "cell_type": "code",
   "execution_count": 11,
   "metadata": {},
   "outputs": [
    {
     "data": {
      "image/png": "[encoded data removed]",
      "text/plain": [
       "<Figure size 1080x1080 with 2 Axes>"
      ]
     },
     "metadata": {
      "needs_background": "light"
     },
     "output_type": "display_data"
    }
   ],
   "source": [
    "# Correlation matrix \n",
    "corrmat = df.corr() \n",
    "fig = plt.figure(figsize = (15, 15)) \n",
    "sns.heatmap(corrmat, vmax = .8, square = True) \n",
    "plt.show()"
   ]
  },
  {
   "cell_type": "code",
   "execution_count": 12,
   "metadata": {},
   "outputs": [
    {
     "data": {
      "text/plain": [
       "(1025681, 7)"
      ]
     },
     "execution_count": 12,
     "metadata": {},
     "output_type": "execute_result"
    }
   ],
   "source": [
    "X = df.drop(labels =['Label','State'],axis =1) \n",
    "X.shape"
   ]
  },
  {
   "cell_type": "code",
   "execution_count": 13,
   "metadata": {},
   "outputs": [],
   "source": [
    "y = df['Label']"
   ]
  },
  {
   "cell_type": "code",
   "execution_count": 14,
   "metadata": {},
   "outputs": [],
   "source": [
    "#stratified shuffling is done to divide the data in equal ration on the basis of parameter label\n",
    "X_train,X_test,y_train,y_test = train_test_split(X,y,test_size=0.30,random_state = 0, stratify =y)"
   ]
  },
  {
   "cell_type": "code",
   "execution_count": 15,
   "metadata": {},
   "outputs": [
    {
     "name": "stdout",
     "output_type": "stream",
     "text": [
      "8066\n"
     ]
    }
   ],
   "source": [
    "cnt=0\n",
    "for i in y_test:\n",
    "  if i==1:\n",
    "    cnt+=1\n",
    "print(cnt)"
   ]
  },
  {
   "cell_type": "code",
   "execution_count": 16,
   "metadata": {},
   "outputs": [
    {
     "data": {
      "text/plain": [
       "(717976, 7)"
      ]
     },
     "execution_count": 16,
     "metadata": {},
     "output_type": "execute_result"
    }
   ],
   "source": [
    "X_train.shape"
   ]
  },
  {
   "cell_type": "code",
   "execution_count": 17,
   "metadata": {},
   "outputs": [
    {
     "data": {
      "text/plain": [
       "(307705,)"
      ]
     },
     "execution_count": 17,
     "metadata": {},
     "output_type": "execute_result"
    }
   ],
   "source": [
    "y_test.shape"
   ]
  },
  {
   "cell_type": "code",
   "execution_count": 18,
   "metadata": {},
   "outputs": [
    {
     "name": "stdout",
     "output_type": "stream",
     "text": [
      "18819\n"
     ]
    }
   ],
   "source": [
    "cnt=0\n",
    "for i in y_train:\n",
    "  if i==1:\n",
    "    cnt+=1\n",
    "print(cnt)"
   ]
  },
  {
   "cell_type": "code",
   "execution_count": 19,
   "metadata": {},
   "outputs": [
    {
     "name": "stdout",
     "output_type": "stream",
     "text": [
      "8066\n"
     ]
    }
   ],
   "source": [
    "cnt=0\n",
    "for i in y_test:\n",
    "  if i==1:\n",
    "    cnt+=1\n",
    "print(cnt)"
   ]
  },
  {
   "cell_type": "code",
   "execution_count": 20,
   "metadata": {},
   "outputs": [
    {
     "data": {
      "text/plain": [
       "((717976, 7), (307705, 7))"
      ]
     },
     "execution_count": 20,
     "metadata": {},
     "output_type": "execute_result"
    }
   ],
   "source": [
    "from sklearn.feature_selection import VarianceThreshold \n",
    "filter = VarianceThreshold(0.01) \n",
    "X_train = filter.fit_transform(X_train) \n",
    "X_test = filter.transform(X_test) \n",
    "X_train.shape, X_test.shape "
   ]
  },
  {
   "cell_type": "code",
   "execution_count": 21,
   "metadata": {},
   "outputs": [],
   "source": [
    "#as y is a series so y_train and y_test are also series therefore we need to convert them to a numpy array.\n",
    "y_train = y_train.to_numpy() \n",
    "y_test = y_test.to_numpy()"
   ]
  },
  {
   "cell_type": "code",
   "execution_count": 22,
   "metadata": {},
   "outputs": [
    {
     "name": "stderr",
     "output_type": "stream",
     "text": [
      "[Parallel(n_jobs=3)]: Using backend LokyBackend with 3 concurrent workers.\n",
      "[Parallel(n_jobs=3)]: Done  35 tasks      | elapsed:   10.2s\n",
      "[Parallel(n_jobs=3)]: Done 156 tasks      | elapsed:   42.4s\n",
      "[Parallel(n_jobs=3)]: Done 300 out of 300 | elapsed:  1.3min finished\n",
      "[Parallel(n_jobs=4)]: Using backend LokyBackend with 4 concurrent workers.\n",
      "[Parallel(n_jobs=4)]: Done   1 out of   1 | elapsed: 10.1min finished\n",
      "[Parallel(n_jobs=3)]: Using backend ThreadingBackend with 3 concurrent workers.\n",
      "[Parallel(n_jobs=3)]: Done  35 tasks      | elapsed:    0.2s\n",
      "[Parallel(n_jobs=3)]: Done 156 tasks      | elapsed:    0.9s\n"
     ]
    },
    {
     "name": "stdout",
     "output_type": "stream",
     "text": [
      "[0 0 0 ... 0 0 0]\n"
     ]
    },
    {
     "name": "stderr",
     "output_type": "stream",
     "text": [
      "[Parallel(n_jobs=3)]: Done 300 out of 300 | elapsed:    1.9s finished\n"
     ]
    }
   ],
   "source": [
    "from sklearn.linear_model import LogisticRegression\n",
    "from sklearn.naive_bayes import GaussianNB\n",
    "from sklearn.ensemble import RandomForestClassifier, VotingClassifier\n",
    "clf1 = GaussianNB()\n",
    "clf2 = RandomForestClassifier(random_state=42,verbose=2,n_jobs=3,n_estimators=300,max_features = 7,criterion='entropy',class_weight='balanced',max_depth=32)\n",
    "clf3 = LogisticRegression(penalty='l2', dual=False, tol=0.00000001, C=1.0, fit_intercept=True, intercept_scaling=1, class_weight={0:3,1:17}, random_state=42, \n",
    "                         solver='saga', max_iter=2000,multi_class='auto', verbose=2, warm_start=False, n_jobs=4, l1_ratio=None)\n",
    "eclf1 = VotingClassifier(estimators=[('gnb', clf1), ('rf', clf2), ('lr', clf3)], voting='soft')\n",
    "eclf1 = eclf1.fit(X_train, y_train)\n",
    "print(eclf1.predict(X_test))\n"
   ]
  },
  {
   "cell_type": "code",
   "execution_count": 23,
   "metadata": {},
   "outputs": [
    {
     "name": "stderr",
     "output_type": "stream",
     "text": [
      "[Parallel(n_jobs=3)]: Using backend LokyBackend with 3 concurrent workers.\n",
      "[Parallel(n_jobs=3)]: Done  35 tasks      | elapsed:   11.2s\n",
      "[Parallel(n_jobs=3)]: Done 156 tasks      | elapsed:   40.8s\n",
      "[Parallel(n_jobs=3)]: Done 359 tasks      | elapsed:  1.5min\n",
      "[Parallel(n_jobs=3)]: Done 500 out of 500 | elapsed:  2.1min finished\n",
      "[Parallel(n_jobs=4)]: Using backend LokyBackend with 4 concurrent workers.\n",
      "[Parallel(n_jobs=4)]: Done   1 out of   1 | elapsed:  5.0min finished\n",
      "[Parallel(n_jobs=3)]: Using backend ThreadingBackend with 3 concurrent workers.\n",
      "[Parallel(n_jobs=3)]: Done  35 tasks      | elapsed:    0.2s\n",
      "[Parallel(n_jobs=3)]: Done 156 tasks      | elapsed:    0.9s\n",
      "[Parallel(n_jobs=3)]: Done 359 tasks      | elapsed:    2.4s\n",
      "[Parallel(n_jobs=3)]: Done 500 out of 500 | elapsed:    3.3s finished\n"
     ]
    },
    {
     "name": "stdout",
     "output_type": "stream",
     "text": [
      "[0 0 0 ... 0 0 0]\n"
     ]
    }
   ],
   "source": [
    "from sklearn.linear_model import LogisticRegression\n",
    "from sklearn.naive_bayes import GaussianNB\n",
    "from sklearn.ensemble import RandomForestClassifier, VotingClassifier\n",
    "clf1 = GaussianNB()\n",
    "clf2 = RandomForestClassifier(random_state=42,verbose=2,n_jobs=3,n_estimators=500,max_features = 7,criterion='entropy',class_weight='balanced',max_depth=40)\n",
    "clf3 = LogisticRegression(penalty='l2', dual=False, tol=0.00000001, C=1.0, fit_intercept=True, intercept_scaling=1, class_weight={0:3,1:17}, random_state=42, \n",
    "                         solver='saga', max_iter=1000,multi_class='auto', verbose=2, warm_start=False, n_jobs=4, l1_ratio=None)\n",
    "eclf1 = VotingClassifier(estimators=[('gnb', clf1), ('rf', clf2), ('lr', clf3)], voting='hard')\n",
    "eclf1 = eclf1.fit(X_train, y_train)\n",
    "print(eclf1.predict(X_test))"
   ]
  },
  {
   "cell_type": "code",
   "execution_count": 24,
   "metadata": {},
   "outputs": [
    {
     "name": "stderr",
     "output_type": "stream",
     "text": [
      "[Parallel(n_jobs=3)]: Using backend ThreadingBackend with 3 concurrent workers.\n",
      "[Parallel(n_jobs=3)]: Done  35 tasks      | elapsed:    0.1s\n",
      "[Parallel(n_jobs=3)]: Done 156 tasks      | elapsed:    0.9s\n",
      "[Parallel(n_jobs=3)]: Done 359 tasks      | elapsed:    3.0s\n",
      "[Parallel(n_jobs=3)]: Done 500 out of 500 | elapsed:    3.9s finished\n"
     ]
    }
   ],
   "source": [
    "y_predict =  eclf1.predict(X_test)"
   ]
  },
  {
   "cell_type": "code",
   "execution_count": 25,
   "metadata": {},
   "outputs": [],
   "source": [
    "y_predict = np.asarray(y_predict)"
   ]
  },
  {
   "cell_type": "code",
   "execution_count": 26,
   "metadata": {},
   "outputs": [
    {
     "data": {
      "text/plain": [
       "array([0, 0, 0, ..., 0, 0, 0], dtype=int64)"
      ]
     },
     "execution_count": 26,
     "metadata": {},
     "output_type": "execute_result"
    }
   ],
   "source": [
    "y_predict"
   ]
  },
  {
   "cell_type": "code",
   "execution_count": 27,
   "metadata": {},
   "outputs": [
    {
     "data": {
      "text/plain": [
       "array([[299632,      7],\n",
       "       [    91,   7975]], dtype=int64)"
      ]
     },
     "execution_count": 27,
     "metadata": {},
     "output_type": "execute_result"
    }
   ],
   "source": [
    "from sklearn.metrics import confusion_matrix\n",
    "conff = confusion_matrix(y_test,y_predict.round())\n",
    "conff"
   ]
  },
  {
   "cell_type": "code",
   "execution_count": 28,
   "metadata": {},
   "outputs": [
    {
     "name": "stdout",
     "output_type": "stream",
     "text": [
      "[[299632      7]\n",
      " [    91   7975]]\n",
      "              precision    recall  f1-score   support\n",
      "\n",
      "           0       1.00      1.00      1.00    299639\n",
      "           1       1.00      0.99      0.99      8066\n",
      "\n",
      "    accuracy                           1.00    307705\n",
      "   macro avg       1.00      0.99      1.00    307705\n",
      "weighted avg       1.00      1.00      1.00    307705\n",
      "\n"
     ]
    }
   ],
   "source": [
    "from sklearn.metrics import classification_report,confusion_matrix\n",
    "print(confusion_matrix(y_test,y_predict.round()))\n",
    "print(classification_report(y_test.round(),y_predict.round()))"
   ]
  },
  {
   "cell_type": "code",
   "execution_count": 29,
   "metadata": {},
   "outputs": [
    {
     "data": {
      "image/png": "[encoded data removed]",
      "text/plain": [
       "<Figure size 432x288 with 2 Axes>"
      ]
     },
     "metadata": {
      "needs_background": "light"
     },
     "output_type": "display_data"
    }
   ],
   "source": [
    "#Plotting Confusion matrix\n",
    "import sklearn\n",
    "import itertools\n",
    "import matplotlib.pyplot as plt\n",
    "classes = [0,1]\n",
    "plt.imshow(conff,interpolation='nearest',cmap=plt.cm.Greens)\n",
    "plt.title(\"Confusion Matrix\")\n",
    "plt.colorbar()\n",
    "tick_marks = np.arange(len(classes))\n",
    "plt.xticks(tick_marks,classes)\n",
    "plt.yticks(tick_marks,classes)\n",
    "accuracy = sklearn.metrics.accuracy_score(y_test,y_predict.round())\n",
    "misclass =1-accuracy\n",
    "fmt ='d'\n",
    "thresh = conff.max()/2\n",
    "for i, j in itertools.product(range(conff.shape[0]),range(conff.shape[1])):\n",
    "  plt.text(j,i,format(conff[i,j],fmt),horizontalalignment='center', color=\"indigo\" if conff[i,j]>thresh else \"blue\")\n",
    "  plt.tight_layout()\n",
    "  plt.ylabel('True label')\n",
    "  #plt.xlabel('Predicted label')\n",
    "  plt.xlabel('Predicted label ( 1-True,0-False )\\naccuracy={:0.3f}; misclass={:0.3f}'.format(accuracy, misclass))"
   ]
  },
  {
   "cell_type": "code",
   "execution_count": 30,
   "metadata": {},
   "outputs": [],
   "source": [
    "# only 7 normal traffic data out of 299632 are classified as botnet traffic ---> False Positives\n",
    "# in the same way only 91 botnet traffic are classified as normal traffic. ----> False Negatives"
   ]
  },
  {
   "cell_type": "code",
   "execution_count": 31,
   "metadata": {},
   "outputs": [],
   "source": [
    "TP = true_positives = 7975\n",
    "TN = true_negatives = 299632\n",
    "FP = false_positives = 7\n",
    "FN = false_negatives = 91"
   ]
  },
  {
   "cell_type": "code",
   "execution_count": 32,
   "metadata": {},
   "outputs": [
    {
     "name": "stdout",
     "output_type": "stream",
     "text": [
      "The flase positive rate of this model is0.0000\n"
     ]
    }
   ],
   "source": [
    "#False Positive rate\n",
    "FPR = FP/(TN+FP)\n",
    "print(\"The flase positive rate of this model is{:.4f}\".format(FPR))"
   ]
  },
  {
   "cell_type": "code",
   "execution_count": 33,
   "metadata": {},
   "outputs": [
    {
     "name": "stdout",
     "output_type": "stream",
     "text": [
      "The true negative rate of this model is1.0000\n"
     ]
    }
   ],
   "source": [
    "#true negative rate\n",
    "TNR = TN/(TN+FP)\n",
    "print(\"The true negative rate of this model is{:.4f}\".format(TNR))"
   ]
  },
  {
   "cell_type": "code",
   "execution_count": 34,
   "metadata": {},
   "outputs": [
    {
     "name": "stdout",
     "output_type": "stream",
     "text": [
      "The detection rate of the model is: 0.99\n"
     ]
    }
   ],
   "source": [
    "DTR = TP/(TP+FN)\n",
    "print(\"The detection rate of the model is: {:.2f}\".format(DTR))"
   ]
  },
  {
   "cell_type": "code",
   "execution_count": 35,
   "metadata": {},
   "outputs": [
    {
     "name": "stdout",
     "output_type": "stream",
     "text": [
      "The model used is Voting Based classifier\n",
      "The accuracy is 0.999682\n",
      "The precision is 0.999123\n",
      "The recall is 0.988718\n",
      "The F1-Score is 0.993893\n",
      "The Matthews correlation coefficient is0.993744\n"
     ]
    }
   ],
   "source": [
    "# Evaluating the classifier \n",
    "# printing every score of the classifier \n",
    "y_pred = y_predict.round()\n",
    "from sklearn.metrics import classification_report, accuracy_score \n",
    "from sklearn.metrics import precision_score, recall_score \n",
    "from sklearn.metrics import f1_score, matthews_corrcoef \n",
    "from sklearn.metrics import confusion_matrix \n",
    "\n",
    "\n",
    "print(\"The model used is Voting Based classifier\")\n",
    "acc = accuracy_score(y_test, y_pred) \n",
    "print(\"The accuracy is {:.6f}\".format(acc)) \n",
    "\n",
    "prec = precision_score(y_test, y_pred) \n",
    "print(\"The precision is {:.6f}\".format(prec)) \n",
    "\n",
    "rec = recall_score(y_test, y_pred) \n",
    "print(\"The recall is {:.6f}\".format(rec)) \n",
    "\n",
    "f1 = f1_score(y_test, y_pred) \n",
    "print(\"The F1-Score is {:.6f}\".format(f1)) \n",
    "\n",
    "MCC = matthews_corrcoef(y_test, y_pred) \n",
    "print(\"The Matthews correlation coefficient is{:.6f}\".format(MCC)) "
   ]
  },
  {
   "cell_type": "code",
   "execution_count": 36,
   "metadata": {},
   "outputs": [],
   "source": [
    "#y_proba = eclf1.predict_proba(X_test)"
   ]
  },
  {
   "cell_type": "code",
   "execution_count": 37,
   "metadata": {},
   "outputs": [
    {
     "data": {
      "image/png": "[encoded data removed]",
      "text/plain": [
       "<Figure size 432x288 with 1 Axes>"
      ]
     },
     "metadata": {
      "needs_background": "light"
     },
     "output_type": "display_data"
    }
   ],
   "source": [
    "from sklearn import metrics\n",
    "FPRs, TPRs, _ = metrics.roc_curve(y_test, y_predict)\n",
    "\n",
    "# Plot the ROC curve\n",
    "plt.plot(FPRs, TPRs, color='red',lw=2, label='ROC curve')\n",
    "plt.plot([0, 1], [0, 1], color='navy', lw=2, linestyle='--', label=\"Mean\")\n",
    "plt.xlim([-0.05, 1.0])\n",
    "plt.ylim([0.0, 1.05])\n",
    "plt.xlabel('False Positive Rate')\n",
    "plt.ylabel('True Positive Rate')\n",
    "plt.title(\"Scikit-learn's ROC curve\")\n",
    "plt.legend(loc=\"lower right\")\n",
    "plt.show()"
   ]
  },
  {
   "cell_type": "code",
   "execution_count": 38,
   "metadata": {},
   "outputs": [
    {
     "name": "stdout",
     "output_type": "stream",
     "text": [
      "Scikit's ROC-AUC score of DL model is  0.9943\n"
     ]
    }
   ],
   "source": [
    "auc_score = metrics.roc_auc_score(y_test, y_predict)\n",
    "print(f\"Scikit's ROC-AUC score of DL model is {auc_score: .4f}\")"
   ]
  },
  {
   "cell_type": "code",
   "execution_count": 39,
   "metadata": {},
   "outputs": [
    {
     "name": "stdout",
     "output_type": "stream",
     "text": [
      "DL: f1=0.994 auc=0.994\n"
     ]
    },
    {
     "data": {
      "image/png": "[encoded data removed]",
      "text/plain": [
       "<Figure size 432x288 with 1 Axes>"
      ]
     },
     "metadata": {
      "needs_background": "light"
     },
     "output_type": "display_data"
    }
   ],
   "source": [
    "# precision-recall curve and f1\n",
    "from sklearn.metrics import precision_recall_curve\n",
    "from sklearn.metrics import f1_score\n",
    "from sklearn.metrics import auc\n",
    "from matplotlib import pyplot\n",
    "%matplotlib inline\n",
    "\n",
    "yhat = y_predict\n",
    "lr_precision, lr_recall = prec,rec\n",
    "lr_f1,lr_auc = f1,auc_score\n",
    "# summarize scores\n",
    "print('DL: f1=%.3f auc=%.3f' % (lr_f1,lr_auc))\n",
    "# plot the precision-recall curves\n",
    "no_skill = len(y_test[y_test==1]) / len(y_test)\n",
    "pyplot.plot([0, 1], [no_skill, no_skill], linestyle='--', label='No Skill')\n",
    "pyplot.plot(lr_recall, lr_precision, marker='.', label='DL')\n",
    "# axis labels\n",
    "pyplot.xlabel('Recall')\n",
    "pyplot.ylabel('Precision')\n",
    "# show the legend\n",
    "pyplot.legend()\n",
    "# show the plot\n",
    "pyplot.show()"
   ]
  },
  {
   "cell_type": "code",
   "execution_count": 40,
   "metadata": {},
   "outputs": [
    {
     "name": "stderr",
     "output_type": "stream",
     "text": [
      "[Parallel(n_jobs=3)]: Using backend LokyBackend with 3 concurrent workers.\n",
      "[Parallel(n_jobs=3)]: Done  35 tasks      | elapsed:   18.1s\n",
      "[Parallel(n_jobs=3)]: Done 156 tasks      | elapsed:  1.2min\n",
      "[Parallel(n_jobs=3)]: Done 359 tasks      | elapsed:  2.8min\n",
      "[Parallel(n_jobs=3)]: Done 642 tasks      | elapsed:  4.9min\n",
      "[Parallel(n_jobs=3)]: Done 1000 out of 1000 | elapsed:  7.6min finished\n",
      "[Parallel(n_jobs=4)]: Using backend LokyBackend with 4 concurrent workers.\n",
      "[Parallel(n_jobs=4)]: Done   1 out of   1 | elapsed:  5.4min finished\n",
      "[Parallel(n_jobs=3)]: Using backend ThreadingBackend with 3 concurrent workers.\n",
      "[Parallel(n_jobs=3)]: Done  35 tasks      | elapsed:    0.1s\n",
      "[Parallel(n_jobs=3)]: Done 156 tasks      | elapsed:    1.1s\n",
      "[Parallel(n_jobs=3)]: Done 359 tasks      | elapsed:    3.7s\n",
      "[Parallel(n_jobs=3)]: Done 642 tasks      | elapsed:    6.0s\n",
      "[Parallel(n_jobs=3)]: Done 1000 out of 1000 | elapsed:    9.1s finished\n"
     ]
    },
    {
     "name": "stdout",
     "output_type": "stream",
     "text": [
      "[0 0 0 ... 0 0 0]\n"
     ]
    }
   ],
   "source": [
    "from sklearn.linear_model import LogisticRegression\n",
    "from sklearn.naive_bayes import GaussianNB\n",
    "from sklearn.ensemble import RandomForestClassifier, VotingClassifier\n",
    "clf1 = GaussianNB()\n",
    "clf2 = RandomForestClassifier(random_state=42,verbose=2,n_jobs=3,n_estimators=1000,max_features = 7,criterion='entropy',class_weight='balanced',max_depth=45)\n",
    "clf3 = LogisticRegression(penalty='l2', dual=False, tol=0.000000001, C=1.0, fit_intercept=True, intercept_scaling=1, class_weight={0:2,1:11}, random_state=42, \n",
    "                         solver='saga', max_iter=800,multi_class='auto', verbose=2, warm_start=False, n_jobs=4, l1_ratio=None)\n",
    "eclf1 = VotingClassifier(estimators=[('gnb', clf1), ('rf', clf2), ('lr', clf3)], voting='hard')\n",
    "eclf1 = eclf1.fit(X_train, y_train)\n",
    "print(eclf1.predict(X_test))"
   ]
  },
  {
   "cell_type": "code",
   "execution_count": 41,
   "metadata": {},
   "outputs": [
    {
     "name": "stderr",
     "output_type": "stream",
     "text": [
      "[Parallel(n_jobs=3)]: Using backend ThreadingBackend with 3 concurrent workers.\n",
      "[Parallel(n_jobs=3)]: Done  35 tasks      | elapsed:    0.4s\n",
      "[Parallel(n_jobs=3)]: Done 156 tasks      | elapsed:    1.6s\n",
      "[Parallel(n_jobs=3)]: Done 359 tasks      | elapsed:    3.2s\n",
      "[Parallel(n_jobs=3)]: Done 642 tasks      | elapsed:    7.6s\n",
      "[Parallel(n_jobs=3)]: Done 1000 out of 1000 | elapsed:   12.9s finished\n"
     ]
    }
   ],
   "source": [
    "y_predict =  eclf1.predict(X_test)\n",
    "y_predict = np.asarray(y_predict)"
   ]
  },
  {
   "cell_type": "code",
   "execution_count": 42,
   "metadata": {},
   "outputs": [
    {
     "data": {
      "text/plain": [
       "array([0, 0, 0, ..., 0, 0, 0], dtype=int64)"
      ]
     },
     "execution_count": 42,
     "metadata": {},
     "output_type": "execute_result"
    }
   ],
   "source": [
    "y_predict"
   ]
  },
  {
   "cell_type": "code",
   "execution_count": 43,
   "metadata": {},
   "outputs": [
    {
     "data": {
      "text/plain": [
       "array([[299630,      9],\n",
       "       [    89,   7977]], dtype=int64)"
      ]
     },
     "execution_count": 43,
     "metadata": {},
     "output_type": "execute_result"
    }
   ],
   "source": [
    "from sklearn.metrics import confusion_matrix\n",
    "conff = confusion_matrix(y_test,y_predict.round())\n",
    "conff"
   ]
  },
  {
   "cell_type": "code",
   "execution_count": 44,
   "metadata": {},
   "outputs": [
    {
     "name": "stdout",
     "output_type": "stream",
     "text": [
      "[[299630      9]\n",
      " [    89   7977]]\n",
      "              precision    recall  f1-score   support\n",
      "\n",
      "           0       1.00      1.00      1.00    299639\n",
      "           1       1.00      0.99      0.99      8066\n",
      "\n",
      "    accuracy                           1.00    307705\n",
      "   macro avg       1.00      0.99      1.00    307705\n",
      "weighted avg       1.00      1.00      1.00    307705\n",
      "\n"
     ]
    }
   ],
   "source": [
    "from sklearn.metrics import classification_report,confusion_matrix\n",
    "print(confusion_matrix(y_test,y_predict.round()))\n",
    "print(classification_report(y_test.round(),y_predict.round()))"
   ]
  },
  {
   "cell_type": "code",
   "execution_count": 45,
   "metadata": {},
   "outputs": [
    {
     "data": {
      "image/png": "[encoded data removed]",
      "text/plain": [
       "<Figure size 432x288 with 2 Axes>"
      ]
     },
     "metadata": {
      "needs_background": "light"
     },
     "output_type": "display_data"
    }
   ],
   "source": [
    "#Plotting Confusion matrix\n",
    "import sklearn\n",
    "import itertools\n",
    "import matplotlib.pyplot as plt\n",
    "classes = [0,1]\n",
    "plt.imshow(conff,interpolation='nearest',cmap=plt.cm.Greens)\n",
    "plt.title(\"Confusion Matrix\")\n",
    "plt.colorbar()\n",
    "tick_marks = np.arange(len(classes))\n",
    "plt.xticks(tick_marks,classes)\n",
    "plt.yticks(tick_marks,classes)\n",
    "accuracy = sklearn.metrics.accuracy_score(y_test,y_predict.round())\n",
    "misclass =1-accuracy\n",
    "fmt ='d'\n",
    "thresh = conff.max()/2\n",
    "for i, j in itertools.product(range(conff.shape[0]),range(conff.shape[1])):\n",
    "  plt.text(j,i,format(conff[i,j],fmt),horizontalalignment='center', color=\"indigo\" if conff[i,j]>thresh else \"blue\")\n",
    "  plt.tight_layout()\n",
    "  plt.ylabel('True label')\n",
    "  #plt.xlabel('Predicted label')\n",
    "  plt.xlabel('Predicted label ( 1-True,0-False )\\naccuracy={:0.3f}; misclass={:0.3f}'.format(accuracy, misclass))"
   ]
  },
  {
   "cell_type": "code",
   "execution_count": 46,
   "metadata": {},
   "outputs": [
    {
     "name": "stdout",
     "output_type": "stream",
     "text": [
      "The model used is Voting Based classifier\n",
      "The accuracy is 0.999682\n",
      "The precision is 0.998873\n",
      "The recall is 0.988966\n",
      "The F1-Score is 0.993895\n",
      "The Matthews correlation coefficient is0.993744\n"
     ]
    }
   ],
   "source": [
    "# Evaluating the classifier \n",
    "# printing every score of the classifier \n",
    "y_pred = y_predict.round()\n",
    "from sklearn.metrics import classification_report, accuracy_score \n",
    "from sklearn.metrics import precision_score, recall_score \n",
    "from sklearn.metrics import f1_score, matthews_corrcoef \n",
    "from sklearn.metrics import confusion_matrix \n",
    "\n",
    "\n",
    "print(\"The model used is Voting Based classifier\")\n",
    "acc = accuracy_score(y_test, y_pred) \n",
    "print(\"The accuracy is {:.6f}\".format(acc)) \n",
    "\n",
    "prec = precision_score(y_test, y_pred) \n",
    "print(\"The precision is {:.6f}\".format(prec)) \n",
    "\n",
    "rec = recall_score(y_test, y_pred) \n",
    "print(\"The recall is {:.6f}\".format(rec)) \n",
    "\n",
    "f1 = f1_score(y_test, y_pred) \n",
    "print(\"The F1-Score is {:.6f}\".format(f1)) \n",
    "\n",
    "MCC = matthews_corrcoef(y_test, y_pred) \n",
    "print(\"The Matthews correlation coefficient is{:.6f}\".format(MCC)) "
   ]
  },
  {
   "cell_type": "code",
   "execution_count": 47,
   "metadata": {},
   "outputs": [
    {
     "data": {
      "image/png": "[encoded data removed]",
      "text/plain": [
       "<Figure size 432x288 with 1 Axes>"
      ]
     },
     "metadata": {
      "needs_background": "light"
     },
     "output_type": "display_data"
    }
   ],
   "source": [
    "from sklearn import metrics\n",
    "FPRs, TPRs, _ = metrics.roc_curve(y_test, y_predict)\n",
    "\n",
    "# Plot the ROC curve\n",
    "plt.plot(FPRs, TPRs, color='red',lw=2, label='ROC curve')\n",
    "plt.plot([0, 1], [0, 1], color='navy', lw=2, linestyle='--', label=\"Mean\")\n",
    "plt.xlim([-0.05, 1.0])\n",
    "plt.ylim([0.0, 1.05])\n",
    "plt.xlabel('False Positive Rate')\n",
    "plt.ylabel('True Positive Rate')\n",
    "plt.title(\"Scikit-learn's ROC curve\")\n",
    "plt.legend(loc=\"lower right\")\n",
    "plt.show()"
   ]
  },
  {
   "cell_type": "code",
   "execution_count": 48,
   "metadata": {},
   "outputs": [
    {
     "name": "stdout",
     "output_type": "stream",
     "text": [
      "Scikit's ROC-AUC score of DL model is  0.9945\n"
     ]
    }
   ],
   "source": [
    "auc_score = metrics.roc_auc_score(y_test, y_predict)\n",
    "print(f\"Scikit's ROC-AUC score of DL model is {auc_score: .4f}\")"
   ]
  },
  {
   "cell_type": "code",
   "execution_count": 49,
   "metadata": {},
   "outputs": [
    {
     "name": "stdout",
     "output_type": "stream",
     "text": [
      "DL: f1=0.994 auc=0.994\n"
     ]
    },
    {
     "data": {
      "image/png": "[encoded data removed]",
      "text/plain": [
       "<Figure size 432x288 with 1 Axes>"
      ]
     },
     "metadata": {
      "needs_background": "light"
     },
     "output_type": "display_data"
    }
   ],
   "source": [
    "# precision-recall curve and f1\n",
    "from sklearn.metrics import precision_recall_curve\n",
    "from sklearn.metrics import f1_score\n",
    "from sklearn.metrics import auc\n",
    "from matplotlib import pyplot\n",
    "%matplotlib inline\n",
    "\n",
    "yhat = y_predict\n",
    "lr_precision, lr_recall = prec,rec\n",
    "lr_f1,lr_auc = f1,auc_score\n",
    "# summarize scores\n",
    "print('DL: f1=%.3f auc=%.3f' % (lr_f1,lr_auc))\n",
    "# plot the precision-recall curves\n",
    "no_skill = len(y_test[y_test==1]) / len(y_test)\n",
    "pyplot.plot([0, 1], [no_skill, no_skill], linestyle='--', label='No Skill')\n",
    "pyplot.plot(lr_recall, lr_precision, marker='.', label='DL')\n",
    "# axis labels\n",
    "pyplot.xlabel('Recall')\n",
    "pyplot.ylabel('Precision')\n",
    "# show the legend\n",
    "pyplot.legend()\n",
    "# show the plot\n",
    "pyplot.show()"
   ]
  },
  {
   "cell_type": "code",
   "execution_count": 24,
   "metadata": {},
   "outputs": [
    {
     "name": "stderr",
     "output_type": "stream",
     "text": [
      "[Parallel(n_jobs=3)]: Using backend LokyBackend with 3 concurrent workers.\n",
      "[Parallel(n_jobs=3)]: Done  35 tasks      | elapsed:    9.7s\n",
      "[Parallel(n_jobs=3)]: Done 156 tasks      | elapsed:   38.4s\n",
      "[Parallel(n_jobs=3)]: Done 359 tasks      | elapsed:  1.5min\n",
      "[Parallel(n_jobs=3)]: Done 642 tasks      | elapsed:  2.6min\n",
      "[Parallel(n_jobs=3)]: Done 1000 out of 1000 | elapsed:  4.1min finished\n",
      "[Parallel(n_jobs=4)]: Using backend LokyBackend with 4 concurrent workers.\n",
      "[Parallel(n_jobs=4)]: Done   1 out of   1 | elapsed: 35.1min finished\n",
      "[Parallel(n_jobs=3)]: Using backend ThreadingBackend with 3 concurrent workers.\n",
      "[Parallel(n_jobs=3)]: Done  35 tasks      | elapsed:    0.2s\n",
      "[Parallel(n_jobs=3)]: Done 156 tasks      | elapsed:    1.0s\n",
      "[Parallel(n_jobs=3)]: Done 359 tasks      | elapsed:    2.5s\n",
      "[Parallel(n_jobs=3)]: Done 642 tasks      | elapsed:    4.5s\n",
      "[Parallel(n_jobs=3)]: Done 1000 out of 1000 | elapsed:    7.1s finished\n"
     ]
    },
    {
     "name": "stdout",
     "output_type": "stream",
     "text": [
      "[0 0 0 ... 0 0 0]\n"
     ]
    }
   ],
   "source": [
    "from sklearn.linear_model import LogisticRegression\n",
    "from sklearn.naive_bayes import GaussianNB\n",
    "from sklearn.ensemble import RandomForestClassifier, VotingClassifier\n",
    "clf1 = GaussianNB()\n",
    "clf2 = RandomForestClassifier(random_state=42,verbose=2,n_jobs=3,n_estimators=1000,max_features = 7,criterion='entropy',class_weight='balanced',max_depth=45)\n",
    "clf3 = LogisticRegression(penalty='l2', dual=False, tol=0.000000001, C=1.0, fit_intercept=True, intercept_scaling=1, class_weight={0:2,1:11}, random_state=42, \n",
    "                         solver='saga', max_iter=7000,multi_class='auto', verbose=2, warm_start=False, n_jobs=4, l1_ratio=None)\n",
    "eclf1 = VotingClassifier(estimators=[('gnb', clf1), ('rf', clf2), ('lr', clf3)], voting='hard')\n",
    "eclf1 = eclf1.fit(X_train, y_train)\n",
    "print(eclf1.predict(X_test))"
   ]
  },
  {
   "cell_type": "code",
   "execution_count": null,
   "metadata": {},
   "outputs": [],
   "source": []
  }
 ],
 "metadata": {
  "kernelspec": {
   "display_name": "Python 3",
   "language": "python",
   "name": "python3"
  },
  "language_info": {
   "codemirror_mode": {
    "name": "ipython",
    "version": 3
   },
   "file_extension": ".py",
   "mimetype": "text/x-python",
   "name": "python",
   "nbconvert_exporter": "python",
   "pygments_lexer": "ipython3",
   "version": "3.7.1"
  }
 },
 "nbformat": 4,
 "nbformat_minor": 2
}
