{
 "cells": [
  {
   "cell_type": "code",
   "execution_count": 1,
   "metadata": {},
   "outputs": [],
   "source": [
    "import numpy as np \n",
    "import pandas as pd \n",
    "import matplotlib.pyplot as plt \n",
    "import seaborn as sns \n",
    "from matplotlib import gridspec\n",
    "%matplotlib inline\n",
    "from sklearn.model_selection import train_test_split\n",
    "from sklearn.preprocessing import StandardScaler"
   ]
  },
  {
   "cell_type": "code",
   "execution_count": 2,
   "metadata": {},
   "outputs": [
    {
     "data": {
      "text/html": [
       "<div>\n",
       "<style scoped>\n",
       "    .dataframe tbody tr th:only-of-type {\n",
       "        vertical-align: middle;\n",
       "    }\n",
       "\n",
       "    .dataframe tbody tr th {\n",
       "        vertical-align: top;\n",
       "    }\n",
       "\n",
       "    .dataframe thead th {\n",
       "        text-align: right;\n",
       "    }\n",
       "</style>\n",
       "<table border=\"1\" class=\"dataframe\">\n",
       "  <thead>\n",
       "    <tr style=\"text-align: right;\">\n",
       "      <th></th>\n",
       "      <th>Dur</th>\n",
       "      <th>Proto</th>\n",
       "      <th>Sport</th>\n",
       "      <th>Dport</th>\n",
       "      <th>State</th>\n",
       "      <th>TotPkts</th>\n",
       "      <th>TotBytes</th>\n",
       "      <th>SrcBytes</th>\n",
       "      <th>Label</th>\n",
       "    </tr>\n",
       "  </thead>\n",
       "  <tbody>\n",
       "    <tr>\n",
       "      <td>0</td>\n",
       "      <td>0.055572</td>\n",
       "      <td>1</td>\n",
       "      <td>13485</td>\n",
       "      <td>1</td>\n",
       "      <td>CON</td>\n",
       "      <td>2</td>\n",
       "      <td>128</td>\n",
       "      <td>60</td>\n",
       "      <td>0</td>\n",
       "    </tr>\n",
       "    <tr>\n",
       "      <td>1</td>\n",
       "      <td>0.097566</td>\n",
       "      <td>1</td>\n",
       "      <td>35155</td>\n",
       "      <td>10</td>\n",
       "      <td>CON</td>\n",
       "      <td>2</td>\n",
       "      <td>474</td>\n",
       "      <td>145</td>\n",
       "      <td>0</td>\n",
       "    </tr>\n",
       "    <tr>\n",
       "      <td>2</td>\n",
       "      <td>0.000000</td>\n",
       "      <td>1</td>\n",
       "      <td>35155</td>\n",
       "      <td>21</td>\n",
       "      <td>INT</td>\n",
       "      <td>1</td>\n",
       "      <td>145</td>\n",
       "      <td>145</td>\n",
       "      <td>0</td>\n",
       "    </tr>\n",
       "    <tr>\n",
       "      <td>3</td>\n",
       "      <td>3598.238525</td>\n",
       "      <td>1</td>\n",
       "      <td>43565</td>\n",
       "      <td>23</td>\n",
       "      <td>CON</td>\n",
       "      <td>876</td>\n",
       "      <td>96819</td>\n",
       "      <td>47731</td>\n",
       "      <td>0</td>\n",
       "    </tr>\n",
       "    <tr>\n",
       "      <td>4</td>\n",
       "      <td>3591.619629</td>\n",
       "      <td>1</td>\n",
       "      <td>43565</td>\n",
       "      <td>23</td>\n",
       "      <td>CON</td>\n",
       "      <td>867</td>\n",
       "      <td>95866</td>\n",
       "      <td>47068</td>\n",
       "      <td>0</td>\n",
       "    </tr>\n",
       "  </tbody>\n",
       "</table>\n",
       "</div>"
      ],
      "text/plain": [
       "           Dur  Proto  Sport  Dport State  TotPkts  TotBytes  SrcBytes  Label\n",
       "0     0.055572      1  13485      1   CON        2       128        60      0\n",
       "1     0.097566      1  35155     10   CON        2       474       145      0\n",
       "2     0.000000      1  35155     21   INT        1       145       145      0\n",
       "3  3598.238525      1  43565     23   CON      876     96819     47731      0\n",
       "4  3591.619629      1  43565     23   CON      867     95866     47068      0"
      ]
     },
     "execution_count": 2,
     "metadata": {},
     "output_type": "execute_result"
    }
   ],
   "source": [
    "path = r\"C:\\Users\\Rajesh\\OneDrive\\Documents\\finalpreprocessed2.csv\"\n",
    "df = pd.read_csv(path)\n",
    "df.head()"
   ]
  },
  {
   "cell_type": "code",
   "execution_count": 3,
   "metadata": {},
   "outputs": [
    {
     "name": "stdout",
     "output_type": "stream",
     "text": [
      "0.026658729695708795\n",
      "\n",
      "\n",
      "Fraud Cases: 26960\n",
      "Valid Transactions: 1011301\n"
     ]
    }
   ],
   "source": [
    "# Determine number of fraud cases in dataset \n",
    "Botnet= df[df['Label'] == 1] \n",
    "Normal = df[df['Label'] == 0] \n",
    "outlierFraction = len(Botnet)/float(len(Normal)) \n",
    "print(outlierFraction) \n",
    "print(\"\\n\")\n",
    "print('Fraud Cases: {}'.format(len(df[df['Label'] == 1]))) \n",
    "print('Valid Transactions: {}'.format(len(df[df['Label'] == 0])))"
   ]
  },
  {
   "cell_type": "code",
   "execution_count": 4,
   "metadata": {},
   "outputs": [
    {
     "name": "stdout",
     "output_type": "stream",
     "text": [
      "(1038261, 6)\n",
      "(1038261,)\n"
     ]
    }
   ],
   "source": [
    "# dividing the X and the Y from the dataset \n",
    "#df1 = df1.drop(['Proto'],axis =1)\n",
    "df1=df[:]\n",
    "df1 = df1.drop(['State','Proto'],axis =1)\n",
    "X = df1.drop(['Label'], axis = 1) \n",
    "y = df1[\"Label\"] \n",
    "print(X.shape) \n",
    "print(y.shape) \n",
    "# getting just the values for the sake of processing \n",
    "# (its a numpy array with no columns) "
   ]
  },
  {
   "cell_type": "code",
   "execution_count": 5,
   "metadata": {},
   "outputs": [
    {
     "name": "stdout",
     "output_type": "stream",
     "text": [
      "(519130, 6)\n",
      "(519131,)\n",
      "13480\n",
      "13480\n"
     ]
    }
   ],
   "source": [
    "X_train,X_test,y_train,y_test = train_test_split(X,y,test_size=0.5,random_state = 42, stratify =y)\n",
    "print(X_train.shape)\n",
    "print(y_test.shape)\n",
    "count=0\n",
    "for i in y_train:\n",
    "    if i==1:\n",
    "        count+=1\n",
    "print(count)\n",
    "count=0\n",
    "for i in y_test:\n",
    "    if i==1:\n",
    "        count+=1\n",
    "print(count)"
   ]
  },
  {
   "cell_type": "code",
   "execution_count": 6,
   "metadata": {},
   "outputs": [
    {
     "data": {
      "text/plain": [
       "array([[-4.50515005e-01, -1.55958631e+00,  3.74690219e-01,\n",
       "        -6.31325421e-03, -5.42656198e-03, -2.51394010e-03],\n",
       "       [-4.50501797e-01,  5.39877801e-01, -6.88454218e-01,\n",
       "        -4.62937497e-03, -5.06862202e-03, -2.26278950e-03],\n",
       "       [-3.43957194e-01,  6.78248191e-01,  3.74690219e-01,\n",
       "        -5.19066805e-03, -5.13675733e-03, -2.27958017e-03],\n",
       "       ...,\n",
       "       [-4.19661054e-01,  1.12352687e+00,  7.15251807e-01,\n",
       "        -5.93905882e-03, -5.27743563e-03, -2.46333160e-03],\n",
       "       [-4.50515929e-01, -1.88922285e+00,  4.22963930e+00,\n",
       "        -6.50035191e-03, -5.44051962e-03, -2.51772392e-03],\n",
       "       [-4.50515712e-01,  6.29559462e-01, -6.90615243e-01,\n",
       "        -6.31325421e-03, -5.41333896e-03, -2.51323064e-03]])"
      ]
     },
     "execution_count": 6,
     "metadata": {},
     "output_type": "execute_result"
    }
   ],
   "source": [
    "scaler = StandardScaler()\n",
    "X_train = scaler.fit_transform(X_train)\n",
    "X_test = scaler.transform(X_test)\n",
    "X_train"
   ]
  },
  {
   "cell_type": "code",
   "execution_count": null,
   "metadata": {},
   "outputs": [],
   "source": [
    "#import KNeighborsClassifier\n",
    "from sklearn.neighbors import KNeighborsClassifier\n",
    "#Setup arrays to store training and test accuracies\n",
    "neighbors = np.arange(1,15)\n",
    "train_accuracy =np.empty(len(neighbors))\n",
    "test_accuracy = np.empty(len(neighbors))\n",
    "for i,k in enumerate(neighbors):\n",
    "    #Setup a knn classifier with k neighbors\n",
    "    knn = KNeighborsClassifier(n_neighbors=k)\n",
    "    #Fit the model\n",
    "    knn.fit(X_train, y_train)\n",
    "    #Compute accuracy on the training set\n",
    "    train_accuracy[i] = knn.score(X_train, y_train)\n",
    "    #Compute accuracy on the test set\n",
    "    test_accuracy[i] = knn.score(X_test, y_test)"
   ]
  },
  {
   "cell_type": "code",
   "execution_count": 8,
   "metadata": {},
   "outputs": [
    {
     "data": {
      "image/png": "[encoded data removed]",
      "text/plain": [
       "<Figure size 432x288 with 1 Axes>"
      ]
     },
     "metadata": {
      "needs_background": "light"
     },
     "output_type": "display_data"
    }
   ],
   "source": [
    "#Generate plot\n",
    "plt.title('k-NN Varying number of neighbors')\n",
    "plt.plot(neighbors, test_accuracy, label='Testing Accuracy')\n",
    "plt.plot(neighbors, train_accuracy, label='Training accuracy')\n",
    "plt.legend()\n",
    "plt.xlabel('Number of neighbors')\n",
    "plt.ylabel('Accuracy')\n",
    "plt.show()"
   ]
  },
  {
   "cell_type": "code",
   "execution_count": 9,
   "metadata": {},
   "outputs": [],
   "source": [
    "from sklearn.neighbors import KNeighborsClassifier\n",
    "neighbors = np.arange(1,10)\n",
    "train_accuracy =np.empty(len(neighbors))\n",
    "test_accuracy = np.empty(len(neighbors))\n",
    "for i,k in enumerate(neighbors):\n",
    "    knn = KNeighborsClassifier(n_neighbors=k,p=8) \n",
    "    knn.fit(X_train, y_train) #fit the model\n",
    "    train_accuracy[i] = knn.score(X_train, y_train)#Compute accuracy on the training set\n",
    "    test_accuracy[i] = knn.score(X_test, y_test) #Compute accuracy on the test set"
   ]
  },
  {
   "cell_type": "code",
   "execution_count": 10,
   "metadata": {},
   "outputs": [
    {
     "data": {
      "image/png": "[encoded data removed]",
      "text/plain": [
       "<Figure size 432x288 with 1 Axes>"
      ]
     },
     "metadata": {
      "needs_background": "light"
     },
     "output_type": "display_data"
    }
   ],
   "source": [
    "#Generate plot\n",
    "plt.title('k-NN Varying number of neighbors')\n",
    "plt.plot(neighbors, test_accuracy, label='Testing Accuracy')\n",
    "plt.plot(neighbors, train_accuracy, label='Training accuracy')\n",
    "plt.legend()\n",
    "plt.xlabel('Number of neighbors')\n",
    "plt.ylabel('Accuracy')\n",
    "plt.show()"
   ]
  },
  {
   "cell_type": "code",
   "execution_count": 11,
   "metadata": {},
   "outputs": [],
   "source": [
    "#Import knearest neighbors Classifier model\n",
    "from sklearn.neighbors import KNeighborsClassifier\n",
    "#Create KNN Classifier\n",
    "#knn = KNeighborsClassifier(n_neighbors=4,P=2) f1:99, acc 999, precision: 996, recall : 98 matrrix: 1 - 19 0-4\n",
    "#knn = KNeighborsClassifier(n_neighbors=4,P=8) f1:989, acc 9994, precision: 997, recall : 98 matrrix: 1 - 19 0-3\n",
    "knn = KNeighborsClassifier(n_neighbors=4,p=8)"
   ]
  },
  {
   "cell_type": "code",
   "execution_count": 12,
   "metadata": {},
   "outputs": [
    {
     "data": {
      "text/plain": [
       "KNeighborsClassifier(algorithm='auto', leaf_size=30, metric='minkowski',\n",
       "                     metric_params=None, n_jobs=None, n_neighbors=4, p=8,\n",
       "                     weights='uniform')"
      ]
     },
     "execution_count": 12,
     "metadata": {},
     "output_type": "execute_result"
    }
   ],
   "source": [
    "#Train the model using the training sets\n",
    "knn.fit(X_train, y_train)"
   ]
  },
  {
   "cell_type": "code",
   "execution_count": 13,
   "metadata": {},
   "outputs": [],
   "source": [
    "#Predict the response for test dataset\n",
    "y_pred = knn.predict(X_test)"
   ]
  },
  {
   "cell_type": "code",
   "execution_count": 14,
   "metadata": {},
   "outputs": [
    {
     "name": "stdout",
     "output_type": "stream",
     "text": [
      "Actual accuracy_score :  0.9992\n",
      "Actual recall_score :  0.9733\n",
      "Actual precision_score :  0.9960\n",
      "Actual f1_score :  0.9845\n"
     ]
    }
   ],
   "source": [
    "#Let's check various metrics using sklearns inbuitl function to compare the values our custom functions generated\n",
    "from sklearn import metrics \n",
    "print(f\"Actual accuracy_score : {metrics.accuracy_score(y_test,y_pred.round()): .4f}\") \n",
    "print(f\"Actual recall_score : {metrics.recall_score(y_test,y_pred.round()): .4f}\") \n",
    "print(f\"Actual precision_score : {metrics.precision_score(y_test,y_pred.round()): .4f}\") \n",
    "print(f\"Actual f1_score : {metrics.f1_score(y_test,y_pred.round()): .4f}\") "
   ]
  },
  {
   "cell_type": "code",
   "execution_count": 15,
   "metadata": {},
   "outputs": [
    {
     "name": "stdout",
     "output_type": "stream",
     "text": [
      "[[75840     8]\n",
      " [   54  1968]]\n",
      "              precision    recall  f1-score   support\n",
      "\n",
      "           0       1.00      1.00      1.00     75848\n",
      "           1       1.00      0.97      0.98      2022\n",
      "\n",
      "    accuracy                           1.00     77870\n",
      "   macro avg       1.00      0.99      0.99     77870\n",
      "weighted avg       1.00      1.00      1.00     77870\n",
      "\n"
     ]
    }
   ],
   "source": [
    "from sklearn.metrics import classification_report,confusion_matrix\n",
    "print(confusion_matrix(y_test,y_pred.round()))\n",
    "print(classification_report(y_test.round(),y_pred.round()))"
   ]
  },
  {
   "cell_type": "code",
   "execution_count": 16,
   "metadata": {},
   "outputs": [
    {
     "name": "stdout",
     "output_type": "stream",
     "text": [
      "The model used is Random Forest classifier\n",
      "26960\n",
      "62\n",
      "The accuracy is 0.9992038012071401\n",
      "The precision is 0.9959514170040485\n",
      "The recall is 0.973293768545994\n",
      "The F1-Score is 0.9844922461230614\n",
      "The Matthews correlation coefficient is0.9841523353586256\n"
     ]
    }
   ],
   "source": [
    "# Evaluating the classifier \n",
    "# printing every score of the classifier \n",
    "# scoring in anything \n",
    "from sklearn.metrics import classification_report, accuracy_score \n",
    "from sklearn.metrics import precision_score, recall_score \n",
    "from sklearn.metrics import f1_score, matthews_corrcoef \n",
    "from sklearn.metrics import confusion_matrix \n",
    "\n",
    "n_outliers = len(Botnet) \n",
    "n_errors = (y_pred != y_test).sum() \n",
    "print(\"The model used is Random Forest classifier\")\n",
    "print(n_outliers)\n",
    "print(n_errors)\n",
    "acc = accuracy_score(y_test, y_pred) \n",
    "print(\"The accuracy is {}\".format(acc)) \n",
    "\n",
    "prec = precision_score(y_test, y_pred) \n",
    "print(\"The precision is {}\".format(prec)) \n",
    "\n",
    "rec = recall_score(y_test, y_pred) \n",
    "print(\"The recall is {}\".format(rec)) \n",
    "\n",
    "f1 = f1_score(y_test, y_pred) \n",
    "print(\"The F1-Score is {}\".format(f1)) \n",
    "\n",
    "MCC = matthews_corrcoef(y_test, y_pred) \n",
    "print(\"The Matthews correlation coefficient is{}\".format(MCC)) "
   ]
  },
  {
   "cell_type": "code",
   "execution_count": 18,
   "metadata": {},
   "outputs": [],
   "source": [
    "#Import knearest neighbors Classifier model\n",
    "from sklearn.neighbors import KNeighborsClassifier\n",
    "#Create KNN Classifier\n",
    "#knn = KNeighborsClassifier(n_neighbors=4,P=2) f1:99, acc 999, precision: 996, recall : 98 matrrix: 1 - 19 0-4\n",
    "#knn = KNeighborsClassifier(n_neighbors=4,P=8) f1:989, acc 9994, precision: 997, recall : 98 matrrix: 1 - 19 0-3\n",
    "knn = KNeighborsClassifier(n_neighbors=2,p=8)"
   ]
  },
  {
   "cell_type": "code",
   "execution_count": 19,
   "metadata": {},
   "outputs": [
    {
     "data": {
      "text/plain": [
       "KNeighborsClassifier(algorithm='auto', leaf_size=30, metric='minkowski',\n",
       "                     metric_params=None, n_jobs=None, n_neighbors=2, p=8,\n",
       "                     weights='uniform')"
      ]
     },
     "execution_count": 19,
     "metadata": {},
     "output_type": "execute_result"
    }
   ],
   "source": [
    "#Train the model using the training sets\n",
    "knn.fit(X_train, y_train)"
   ]
  },
  {
   "cell_type": "code",
   "execution_count": 20,
   "metadata": {},
   "outputs": [],
   "source": [
    "#Predict the response for test dataset\n",
    "y_pred = knn.predict(X_test)"
   ]
  },
  {
   "cell_type": "code",
   "execution_count": 21,
   "metadata": {},
   "outputs": [
    {
     "name": "stdout",
     "output_type": "stream",
     "text": [
      "Actual accuracy_score :  0.9993\n",
      "Actual recall_score :  0.9733\n",
      "Actual precision_score :  0.9980\n",
      "Actual f1_score :  0.9855\n"
     ]
    }
   ],
   "source": [
    "#Let's check various metrics using sklearns inbuitl function to compare the values our custom functions generated\n",
    "from sklearn import metrics \n",
    "print(f\"Actual accuracy_score : {metrics.accuracy_score(y_test,y_pred.round()): .4f}\") \n",
    "print(f\"Actual recall_score : {metrics.recall_score(y_test,y_pred.round()): .4f}\") \n",
    "print(f\"Actual precision_score : {metrics.precision_score(y_test,y_pred.round()): .4f}\") \n",
    "print(f\"Actual f1_score : {metrics.f1_score(y_test,y_pred.round()): .4f}\")"
   ]
  },
  {
   "cell_type": "code",
   "execution_count": 22,
   "metadata": {},
   "outputs": [
    {
     "name": "stdout",
     "output_type": "stream",
     "text": [
      "[[75844     4]\n",
      " [   54  1968]]\n",
      "              precision    recall  f1-score   support\n",
      "\n",
      "           0       1.00      1.00      1.00     75848\n",
      "           1       1.00      0.97      0.99      2022\n",
      "\n",
      "    accuracy                           1.00     77870\n",
      "   macro avg       1.00      0.99      0.99     77870\n",
      "weighted avg       1.00      1.00      1.00     77870\n",
      "\n"
     ]
    }
   ],
   "source": [
    "from sklearn.metrics import classification_report,confusion_matrix\n",
    "print(confusion_matrix(y_test,y_pred.round()))\n",
    "print(classification_report(y_test.round(),y_pred.round()))"
   ]
  },
  {
   "cell_type": "code",
   "execution_count": null,
   "metadata": {},
   "outputs": [],
   "source": []
  },
  {
   "cell_type": "code",
   "execution_count": 1,
   "metadata": {},
   "outputs": [],
   "source": [
    "TP = true_positives = 1968\n",
    "TN = true_negatives = 75844\n",
    "FP = false_positives = 4\n",
    "FN = false_negatives = 54"
   ]
  },
  {
   "cell_type": "code",
   "execution_count": 2,
   "metadata": {},
   "outputs": [
    {
     "name": "stdout",
     "output_type": "stream",
     "text": [
      "The flase positive rate of this model is0.0001\n"
     ]
    }
   ],
   "source": [
    "#False Positive rate\n",
    "FPR = FP/(TN+FP)\n",
    "print(\"The flase positive rate of this model is{:.4f}\".format(FPR))"
   ]
  },
  {
   "cell_type": "code",
   "execution_count": 7,
   "metadata": {},
   "outputs": [],
   "source": [
    "#Import knearest neighbors Classifier model\n",
    "from sklearn.neighbors import KNeighborsClassifier\n",
    "#Create KNN Classifier\n",
    "#knn = KNeighborsClassifier(n_neighbors=4,P=2) f1:99, acc 999, precision: 996, recall : 98 matrrix: 1 - 19 0-4\n",
    "#knn = KNeighborsClassifier(n_neighbors=4,P=8) f1:989, acc 9994, precision: 997, recall : 98 matrrix: 1 - 19 0-3\n",
    "knn = KNeighborsClassifier(n_neighbors=2,p=8)"
   ]
  },
  {
   "cell_type": "code",
   "execution_count": 8,
   "metadata": {},
   "outputs": [
    {
     "data": {
      "text/plain": [
       "KNeighborsClassifier(algorithm='auto', leaf_size=30, metric='minkowski',\n",
       "                     metric_params=None, n_jobs=None, n_neighbors=2, p=8,\n",
       "                     weights='uniform')"
      ]
     },
     "execution_count": 8,
     "metadata": {},
     "output_type": "execute_result"
    }
   ],
   "source": [
    "#Train the model using the training sets\n",
    "knn.fit(X_train, y_train)"
   ]
  },
  {
   "cell_type": "code",
   "execution_count": 9,
   "metadata": {},
   "outputs": [],
   "source": [
    "#Predict the response for test dataset\n",
    "y_pred = knn.predict(X_test)"
   ]
  },
  {
   "cell_type": "code",
   "execution_count": 10,
   "metadata": {},
   "outputs": [
    {
     "name": "stdout",
     "output_type": "stream",
     "text": [
      "Actual accuracy_score :  0.9993\n",
      "Actual recall_score :  0.9782\n",
      "Actual precision_score :  0.9956\n",
      "Actual f1_score :  0.9868\n"
     ]
    }
   ],
   "source": [
    "#Let's check various metrics using sklearns inbuitl function to compare the values our custom functions generated\n",
    "from sklearn import metrics \n",
    "print(f\"Actual accuracy_score : {metrics.accuracy_score(y_test,y_pred.round()): .4f}\") \n",
    "print(f\"Actual recall_score : {metrics.recall_score(y_test,y_pred.round()): .4f}\") \n",
    "print(f\"Actual precision_score : {metrics.precision_score(y_test,y_pred.round()): .4f}\") \n",
    "print(f\"Actual f1_score : {metrics.f1_score(y_test,y_pred.round()): .4f}\")"
   ]
  },
  {
   "cell_type": "code",
   "execution_count": 11,
   "metadata": {},
   "outputs": [
    {
     "name": "stdout",
     "output_type": "stream",
     "text": [
      "[[252796     29]\n",
      " [   147   6593]]\n",
      "              precision    recall  f1-score   support\n",
      "\n",
      "           0       1.00      1.00      1.00    252825\n",
      "           1       1.00      0.98      0.99      6740\n",
      "\n",
      "    accuracy                           1.00    259565\n",
      "   macro avg       1.00      0.99      0.99    259565\n",
      "weighted avg       1.00      1.00      1.00    259565\n",
      "\n"
     ]
    }
   ],
   "source": [
    "from sklearn.metrics import classification_report,confusion_matrix\n",
    "print(confusion_matrix(y_test,y_pred.round()))\n",
    "print(classification_report(y_test.round(),y_pred.round()))"
   ]
  },
  {
   "cell_type": "code",
   "execution_count": 7,
   "metadata": {},
   "outputs": [],
   "source": [
    "#Import knearest neighbors Classifier model\n",
    "from sklearn.neighbors import KNeighborsClassifier\n",
    "#Create KNN Classifier\n",
    "#knn = KNeighborsClassifier(n_neighbors=4,P=2) f1:99, acc 999, precision: 996, recall : 98 matrrix: 1 - 19 0-4\n",
    "#knn = KNeighborsClassifier(n_neighbors=4,P=8) f1:989, acc 9994, precision: 997, recall : 98 matrrix: 1 - 19 0-3\n",
    "knn = KNeighborsClassifier(n_neighbors=2,p=8)"
   ]
  },
  {
   "cell_type": "code",
   "execution_count": 8,
   "metadata": {},
   "outputs": [
    {
     "data": {
      "text/plain": [
       "KNeighborsClassifier(algorithm='auto', leaf_size=30, metric='minkowski',\n",
       "                     metric_params=None, n_jobs=None, n_neighbors=2, p=8,\n",
       "                     weights='uniform')"
      ]
     },
     "execution_count": 8,
     "metadata": {},
     "output_type": "execute_result"
    }
   ],
   "source": [
    "#Train the model using the training sets\n",
    "knn.fit(X_train, y_train)"
   ]
  },
  {
   "cell_type": "code",
   "execution_count": 9,
   "metadata": {},
   "outputs": [],
   "source": [
    "#Predict the response for test dataset\n",
    "y_pred = knn.predict(X_test)"
   ]
  },
  {
   "cell_type": "code",
   "execution_count": 10,
   "metadata": {},
   "outputs": [
    {
     "name": "stdout",
     "output_type": "stream",
     "text": [
      "Actual accuracy_score :  0.9993\n",
      "Actual recall_score :  0.9772\n",
      "Actual precision_score :  0.9975\n",
      "Actual f1_score :  0.9872\n"
     ]
    }
   ],
   "source": [
    "#Let's check various metrics using sklearns inbuitl function to compare the values our custom functions generated\n",
    "from sklearn import metrics \n",
    "print(f\"Actual accuracy_score : {metrics.accuracy_score(y_test,y_pred.round()): .4f}\") \n",
    "print(f\"Actual recall_score : {metrics.recall_score(y_test,y_pred.round()): .4f}\") \n",
    "print(f\"Actual precision_score : {metrics.precision_score(y_test,y_pred.round()): .4f}\") \n",
    "print(f\"Actual f1_score : {metrics.f1_score(y_test,y_pred.round()): .4f}\")"
   ]
  },
  {
   "cell_type": "code",
   "execution_count": 11,
   "metadata": {},
   "outputs": [
    {
     "name": "stdout",
     "output_type": "stream",
     "text": [
      "[[505618     33]\n",
      " [   308  13172]]\n",
      "              precision    recall  f1-score   support\n",
      "\n",
      "           0       1.00      1.00      1.00    505651\n",
      "           1       1.00      0.98      0.99     13480\n",
      "\n",
      "    accuracy                           1.00    519131\n",
      "   macro avg       1.00      0.99      0.99    519131\n",
      "weighted avg       1.00      1.00      1.00    519131\n",
      "\n"
     ]
    }
   ],
   "source": [
    "from sklearn.metrics import classification_report,confusion_matrix \n",
    "print(confusion_matrix(y_test,y_pred.round())) \n",
    "print(classification_report(y_test.round(),y_pred.round())) "
   ]
  },
  {
   "cell_type": "code",
   "execution_count": 13,
   "metadata": {},
   "outputs": [
    {
     "name": "stdout",
     "output_type": "stream",
     "text": [
      "The model used is Random Forest classifier\n",
      "26960\n",
      "341\n",
      "The accuracy is 0.99934313304349\n",
      "The precision is 0.9975009466111322\n",
      "The recall is 0.9771513353115727\n",
      "The F1-Score is 0.9872212853663106\n",
      "The Matthews correlation coefficient is0.986939434620731\n"
     ]
    }
   ],
   "source": [
    "# Evaluating the classifier \n",
    "# printing every score of the classifier \n",
    "# scoring in anything \n",
    "from sklearn.metrics import classification_report, accuracy_score \n",
    "from sklearn.metrics import precision_score, recall_score \n",
    "from sklearn.metrics import f1_score, matthews_corrcoef \n",
    "from sklearn.metrics import confusion_matrix \n",
    "\n",
    "n_outliers = len(Botnet) \n",
    "n_errors = (y_pred != y_test).sum() \n",
    "print(\"The model used is Random Forest classifier\")\n",
    "print(n_outliers)\n",
    "print(n_errors)\n",
    "acc = accuracy_score(y_test, y_pred) \n",
    "print(\"The accuracy is {}\".format(acc)) \n",
    "\n",
    "prec = precision_score(y_test, y_pred) \n",
    "print(\"The precision is {}\".format(prec)) \n",
    "\n",
    "rec = recall_score(y_test, y_pred) \n",
    "print(\"The recall is {}\".format(rec)) \n",
    "\n",
    "f1 = f1_score(y_test, y_pred) \n",
    "print(\"The F1-Score is {}\".format(f1)) \n",
    "\n",
    "MCC = matthews_corrcoef(y_test, y_pred) \n",
    "print(\"The Matthews correlation coefficient is{}\".format(MCC)) "
   ]
  },
  {
   "cell_type": "code",
   "execution_count": null,
   "metadata": {},
   "outputs": [],
   "source": []
  }
 ],
 "metadata": {
  "kernelspec": {
   "display_name": "Python 3",
   "language": "python",
   "name": "python3"
  },
  "language_info": {
   "codemirror_mode": {
    "name": "ipython",
    "version": 3
   },
   "file_extension": ".py",
   "mimetype": "text/x-python",
   "name": "python",
   "nbconvert_exporter": "python",
   "pygments_lexer": "ipython3",
   "version": "3.7.1"
  }
 },
 "nbformat": 4,
 "nbformat_minor": 2
}
